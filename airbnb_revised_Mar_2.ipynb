{
 "cells": [
  {
   "cell_type": "code",
   "execution_count": null,
   "metadata": {},
   "outputs": [],
   "source": [
    "!pip install category_encoders"
   ]
  },
  {
   "cell_type": "code",
   "execution_count": null,
   "metadata": {},
   "outputs": [],
   "source": [
    "!pip install eli5"
   ]
  },
  {
   "cell_type": "code",
   "execution_count": 1,
   "metadata": {
    "colab": {},
    "colab_type": "code",
    "id": "92O-J9K9I-13"
   },
   "outputs": [],
   "source": [
    "import pandas as pd\n",
    "import numpy as np\n",
    "import matplotlib.pyplot as plt\n",
    "from scipy import stats\n",
    "from sklearn import datasets, linear_model\n",
    "from sklearn.ensemble import RandomForestRegressor\n",
    "from sklearn.feature_selection import f_regression, SelectKBest\n",
    "from sklearn.linear_model import LinearRegression, Ridge\n",
    "from sklearn.model_selection import cross_val_score, GridSearchCV, RandomizedSearchCV, train_test_split, validation_curve\n",
    "from sklearn.metrics import mean_absolute_error\n",
    "from sklearn.neighbors import KNeighborsRegressor\n",
    "from sklearn.pipeline import make_pipeline\n",
    "from sklearn.preprocessing import StandardScaler\n",
    "from sklearn.tree import DecisionTreeRegressor\n",
    "import category_encoders as ce\n",
    "import eli5\n",
    "from eli5.sklearn import PermutationImportance\n",
    "\n",
    "\n",
    "# In order to see all of the columns of the dataset we need to set the display options\n",
    "# from the Pandas package to at least 100 (the dataset has 96 columns) and, for the rows,\n",
    "# I set it to at least 100 which will help when I check for null values and dtypes.\n",
    "\n",
    "pd.set_option('mode.chained_assignment', None) # Everytime I made a new column I would have a warning raised\n",
    "pd.set_option('display.max_columns', 100)\n",
    "pd.set_option('display.max_rows', 100)"
   ]
  },
  {
   "cell_type": "code",
   "execution_count": 2,
   "metadata": {
    "colab": {},
    "colab_type": "code",
    "id": "KWMuEo-UI-1-"
   },
   "outputs": [],
   "source": [
    "# Importing the CSV 'listings_summary.csv' from the Kaggle dataset found at this\n",
    "# URL: https://www.kaggle.com/brittabettendorf/berlin-airbnb-data\n",
    "\n",
    "listings_summary = pd.read_csv('https://raw.githubusercontent.com/BuildWeekAirbnbOptimal2/Datascience/master/Berlin.csv')"
   ]
  },
  {
   "cell_type": "code",
   "execution_count": 3,
   "metadata": {
    "colab": {
     "base_uri": "https://localhost:8080/",
     "height": 35
    },
    "colab_type": "code",
    "id": "uF5N9hUFI-2D",
    "outputId": "855c2061-d77f-41d7-9ea4-442732cc97c2"
   },
   "outputs": [
    {
     "data": {
      "text/plain": [
       "(22552, 96)"
      ]
     },
     "execution_count": 3,
     "metadata": {},
     "output_type": "execute_result"
    }
   ],
   "source": [
    "# As stated above, there are 96 columns and over 20,000 observations\n",
    "\n",
    "listings_summary.shape"
   ]
  },
  {
   "cell_type": "code",
   "execution_count": 4,
   "metadata": {
    "colab": {
     "base_uri": "https://localhost:8080/",
     "height": 1000
    },
    "colab_type": "code",
    "id": "Y7B0JP7_I-2I",
    "outputId": "31623bf3-0124-46d4-cf93-02afd14aa1b9"
   },
   "outputs": [
    {
     "data": {
      "text/plain": [
       "id                                    int64\n",
       "listing_url                          object\n",
       "scrape_id                             int64\n",
       "last_scraped                         object\n",
       "name                                 object\n",
       "summary                              object\n",
       "space                                object\n",
       "description                          object\n",
       "experiences_offered                  object\n",
       "neighborhood_overview                object\n",
       "notes                                object\n",
       "transit                              object\n",
       "access                               object\n",
       "interaction                          object\n",
       "house_rules                          object\n",
       "thumbnail_url                       float64\n",
       "medium_url                          float64\n",
       "picture_url                          object\n",
       "xl_picture_url                      float64\n",
       "host_id                               int64\n",
       "host_url                             object\n",
       "host_name                            object\n",
       "host_since                           object\n",
       "host_location                        object\n",
       "host_about                           object\n",
       "host_response_time                   object\n",
       "host_response_rate                   object\n",
       "host_acceptance_rate                float64\n",
       "host_is_superhost                    object\n",
       "host_thumbnail_url                   object\n",
       "host_picture_url                     object\n",
       "host_neighbourhood                   object\n",
       "host_listings_count                 float64\n",
       "host_total_listings_count           float64\n",
       "host_verifications                   object\n",
       "host_has_profile_pic                 object\n",
       "host_identity_verified               object\n",
       "street                               object\n",
       "neighbourhood                        object\n",
       "neighbourhood_cleansed               object\n",
       "neighbourhood_group_cleansed         object\n",
       "city                                 object\n",
       "state                                object\n",
       "zipcode                              object\n",
       "market                               object\n",
       "smart_location                       object\n",
       "country_code                         object\n",
       "country                              object\n",
       "latitude                            float64\n",
       "longitude                           float64\n",
       "is_location_exact                    object\n",
       "property_type                        object\n",
       "room_type                            object\n",
       "accommodates                          int64\n",
       "bathrooms                           float64\n",
       "bedrooms                            float64\n",
       "beds                                float64\n",
       "bed_type                             object\n",
       "amenities                            object\n",
       "square_feet                         float64\n",
       "price                                object\n",
       "weekly_price                         object\n",
       "monthly_price                        object\n",
       "security_deposit                     object\n",
       "cleaning_fee                         object\n",
       "guests_included                       int64\n",
       "extra_people                         object\n",
       "minimum_nights                        int64\n",
       "maximum_nights                        int64\n",
       "calendar_updated                     object\n",
       "has_availability                     object\n",
       "availability_30                       int64\n",
       "availability_60                       int64\n",
       "availability_90                       int64\n",
       "availability_365                      int64\n",
       "calendar_last_scraped                object\n",
       "number_of_reviews                     int64\n",
       "first_review                         object\n",
       "last_review                          object\n",
       "review_scores_rating                float64\n",
       "review_scores_accuracy              float64\n",
       "review_scores_cleanliness           float64\n",
       "review_scores_checkin               float64\n",
       "review_scores_communication         float64\n",
       "review_scores_location              float64\n",
       "review_scores_value                 float64\n",
       "requires_license                     object\n",
       "license                              object\n",
       "jurisdiction_names                  float64\n",
       "instant_bookable                     object\n",
       "is_business_travel_ready             object\n",
       "cancellation_policy                  object\n",
       "require_guest_profile_picture        object\n",
       "require_guest_phone_verification     object\n",
       "calculated_host_listings_count        int64\n",
       "reviews_per_month                   float64\n",
       "dtype: object"
      ]
     },
     "execution_count": 4,
     "metadata": {},
     "output_type": "execute_result"
    }
   ],
   "source": [
    "# Checking the dtypes of the dataset...\n",
    "\n",
    "# The goal of this project is to find the optimal price for an AirBnB in Belin, Germany so,\n",
    "# the target variable will be the 'price' which is currently an object and therefore, will\n",
    "# have to be dealt with appropriately.\n",
    "\n",
    "listings_summary.dtypes"
   ]
  },
  {
   "cell_type": "code",
   "execution_count": 5,
   "metadata": {
    "colab": {
     "base_uri": "https://localhost:8080/",
     "height": 1000
    },
    "colab_type": "code",
    "id": "pO0Bo1oDI-2M",
    "outputId": "5a301e48-b3bd-4cb9-a8b2-34003b0767cc"
   },
   "outputs": [
    {
     "data": {
      "text/plain": [
       "id                                      0\n",
       "listing_url                             0\n",
       "scrape_id                               0\n",
       "last_scraped                            0\n",
       "name                                   59\n",
       "summary                               963\n",
       "space                                8532\n",
       "description                           203\n",
       "experiences_offered                     0\n",
       "neighborhood_overview               11012\n",
       "notes                               15337\n",
       "transit                              9516\n",
       "access                              11715\n",
       "interaction                         12146\n",
       "house_rules                         11103\n",
       "thumbnail_url                       22552\n",
       "medium_url                          22552\n",
       "picture_url                             0\n",
       "xl_picture_url                      22552\n",
       "host_id                                 0\n",
       "host_url                                0\n",
       "host_name                              26\n",
       "host_since                             26\n",
       "host_location                         116\n",
       "host_about                          11363\n",
       "host_response_time                  12894\n",
       "host_response_rate                  12895\n",
       "host_acceptance_rate                22552\n",
       "host_is_superhost                      26\n",
       "host_thumbnail_url                     26\n",
       "host_picture_url                       26\n",
       "host_neighbourhood                   5094\n",
       "host_listings_count                    26\n",
       "host_total_listings_count              26\n",
       "host_verifications                      0\n",
       "host_has_profile_pic                   26\n",
       "host_identity_verified                 26\n",
       "street                                  0\n",
       "neighbourhood                        1131\n",
       "neighbourhood_cleansed                  0\n",
       "neighbourhood_group_cleansed            0\n",
       "city                                    5\n",
       "state                                  84\n",
       "zipcode                               656\n",
       "market                                 63\n",
       "smart_location                          0\n",
       "country_code                            0\n",
       "country                                 0\n",
       "latitude                                0\n",
       "longitude                               0\n",
       "is_location_exact                       0\n",
       "property_type                           0\n",
       "room_type                               0\n",
       "accommodates                            0\n",
       "bathrooms                              32\n",
       "bedrooms                               18\n",
       "beds                                   40\n",
       "bed_type                                0\n",
       "amenities                               0\n",
       "square_feet                         22106\n",
       "price                                   0\n",
       "weekly_price                        18871\n",
       "monthly_price                       19893\n",
       "security_deposit                     9361\n",
       "cleaning_fee                         7146\n",
       "guests_included                         0\n",
       "extra_people                            0\n",
       "minimum_nights                          0\n",
       "maximum_nights                          0\n",
       "calendar_updated                        0\n",
       "has_availability                        0\n",
       "availability_30                         0\n",
       "availability_60                         0\n",
       "availability_90                         0\n",
       "availability_365                        0\n",
       "calendar_last_scraped                   0\n",
       "number_of_reviews                       0\n",
       "first_review                         3914\n",
       "last_review                          3908\n",
       "review_scores_rating                 4389\n",
       "review_scores_accuracy               4414\n",
       "review_scores_cleanliness            4411\n",
       "review_scores_checkin                4432\n",
       "review_scores_communication          4418\n",
       "review_scores_location               4431\n",
       "review_scores_value                  4435\n",
       "requires_license                        0\n",
       "license                             20914\n",
       "jurisdiction_names                  22552\n",
       "instant_bookable                        0\n",
       "is_business_travel_ready                0\n",
       "cancellation_policy                     0\n",
       "require_guest_profile_picture           0\n",
       "require_guest_phone_verification        0\n",
       "calculated_host_listings_count          0\n",
       "reviews_per_month                    3914\n",
       "dtype: int64"
      ]
     },
     "execution_count": 5,
     "metadata": {},
     "output_type": "execute_result"
    }
   ],
   "source": [
    "# Next we will check for the null values within the dataset - there are quite a few...\n",
    "\n",
    "listings_summary.isna().sum()"
   ]
  },
  {
   "cell_type": "code",
   "execution_count": 6,
   "metadata": {
    "colab": {
     "base_uri": "https://localhost:8080/",
     "height": 202
    },
    "colab_type": "code",
    "id": "LnhJr1aPI-2Q",
    "outputId": "298a6c73-37aa-45ae-c0b9-659f7a553427"
   },
   "outputs": [
    {
     "data": {
      "text/html": [
       "<div>\n",
       "<style scoped>\n",
       "    .dataframe tbody tr th:only-of-type {\n",
       "        vertical-align: middle;\n",
       "    }\n",
       "\n",
       "    .dataframe tbody tr th {\n",
       "        vertical-align: top;\n",
       "    }\n",
       "\n",
       "    .dataframe thead th {\n",
       "        text-align: right;\n",
       "    }\n",
       "</style>\n",
       "<table border=\"1\" class=\"dataframe\">\n",
       "  <thead>\n",
       "    <tr style=\"text-align: right;\">\n",
       "      <th></th>\n",
       "      <th>id</th>\n",
       "      <th>listing_url</th>\n",
       "      <th>scrape_id</th>\n",
       "      <th>last_scraped</th>\n",
       "      <th>name</th>\n",
       "      <th>summary</th>\n",
       "      <th>space</th>\n",
       "      <th>description</th>\n",
       "      <th>experiences_offered</th>\n",
       "      <th>neighborhood_overview</th>\n",
       "      <th>notes</th>\n",
       "      <th>transit</th>\n",
       "      <th>access</th>\n",
       "      <th>interaction</th>\n",
       "      <th>house_rules</th>\n",
       "      <th>thumbnail_url</th>\n",
       "      <th>medium_url</th>\n",
       "      <th>picture_url</th>\n",
       "      <th>xl_picture_url</th>\n",
       "      <th>host_id</th>\n",
       "      <th>host_url</th>\n",
       "      <th>host_name</th>\n",
       "      <th>host_since</th>\n",
       "      <th>host_location</th>\n",
       "      <th>host_about</th>\n",
       "      <th>host_response_time</th>\n",
       "      <th>host_response_rate</th>\n",
       "      <th>host_acceptance_rate</th>\n",
       "      <th>host_is_superhost</th>\n",
       "      <th>host_thumbnail_url</th>\n",
       "      <th>host_picture_url</th>\n",
       "      <th>host_neighbourhood</th>\n",
       "      <th>host_listings_count</th>\n",
       "      <th>host_total_listings_count</th>\n",
       "      <th>host_verifications</th>\n",
       "      <th>host_has_profile_pic</th>\n",
       "      <th>host_identity_verified</th>\n",
       "      <th>street</th>\n",
       "      <th>neighbourhood</th>\n",
       "      <th>neighbourhood_cleansed</th>\n",
       "      <th>neighbourhood_group_cleansed</th>\n",
       "      <th>city</th>\n",
       "      <th>state</th>\n",
       "      <th>zipcode</th>\n",
       "      <th>market</th>\n",
       "      <th>smart_location</th>\n",
       "      <th>country_code</th>\n",
       "      <th>country</th>\n",
       "      <th>latitude</th>\n",
       "      <th>longitude</th>\n",
       "      <th>is_location_exact</th>\n",
       "      <th>property_type</th>\n",
       "      <th>room_type</th>\n",
       "      <th>accommodates</th>\n",
       "      <th>bathrooms</th>\n",
       "      <th>bedrooms</th>\n",
       "      <th>beds</th>\n",
       "      <th>bed_type</th>\n",
       "      <th>amenities</th>\n",
       "      <th>square_feet</th>\n",
       "      <th>price</th>\n",
       "      <th>weekly_price</th>\n",
       "      <th>monthly_price</th>\n",
       "      <th>security_deposit</th>\n",
       "      <th>cleaning_fee</th>\n",
       "      <th>guests_included</th>\n",
       "      <th>extra_people</th>\n",
       "      <th>minimum_nights</th>\n",
       "      <th>maximum_nights</th>\n",
       "      <th>calendar_updated</th>\n",
       "      <th>has_availability</th>\n",
       "      <th>availability_30</th>\n",
       "      <th>availability_60</th>\n",
       "      <th>availability_90</th>\n",
       "      <th>availability_365</th>\n",
       "      <th>calendar_last_scraped</th>\n",
       "      <th>number_of_reviews</th>\n",
       "      <th>first_review</th>\n",
       "      <th>last_review</th>\n",
       "      <th>review_scores_rating</th>\n",
       "      <th>review_scores_accuracy</th>\n",
       "      <th>review_scores_cleanliness</th>\n",
       "      <th>review_scores_checkin</th>\n",
       "      <th>review_scores_communication</th>\n",
       "      <th>review_scores_location</th>\n",
       "      <th>review_scores_value</th>\n",
       "      <th>requires_license</th>\n",
       "      <th>license</th>\n",
       "      <th>jurisdiction_names</th>\n",
       "      <th>instant_bookable</th>\n",
       "      <th>is_business_travel_ready</th>\n",
       "      <th>cancellation_policy</th>\n",
       "      <th>require_guest_profile_picture</th>\n",
       "      <th>require_guest_phone_verification</th>\n",
       "      <th>calculated_host_listings_count</th>\n",
       "      <th>reviews_per_month</th>\n",
       "    </tr>\n",
       "  </thead>\n",
       "  <tbody>\n",
       "    <tr>\n",
       "      <th>0</th>\n",
       "      <td>2015</td>\n",
       "      <td>https://www.airbnb.com/rooms/2015</td>\n",
       "      <td>20181107122246</td>\n",
       "      <td>2018-11-07</td>\n",
       "      <td>Berlin-Mitte Value! Quiet courtyard/very central</td>\n",
       "      <td>Great location!  30 of 75 sq meters. This wood...</td>\n",
       "      <td>A+++ location! This „Einliegerwohnung“ is an e...</td>\n",
       "      <td>Great location!  30 of 75 sq meters. This wood...</td>\n",
       "      <td>none</td>\n",
       "      <td>It is located in the former East Berlin area o...</td>\n",
       "      <td>This is my home, not a hotel. I rent out occas...</td>\n",
       "      <td>Close to U-Bahn U8 and U2 (metro), Trams M12, ...</td>\n",
       "      <td>Simple kitchen/cooking, refrigerator, microwav...</td>\n",
       "      <td>Always available</td>\n",
       "      <td>No parties No events No pets No smoking, not e...</td>\n",
       "      <td>NaN</td>\n",
       "      <td>NaN</td>\n",
       "      <td>https://a0.muscache.com/im/pictures/260fd609-7...</td>\n",
       "      <td>NaN</td>\n",
       "      <td>2217</td>\n",
       "      <td>https://www.airbnb.com/users/show/2217</td>\n",
       "      <td>Ian</td>\n",
       "      <td>2008-08-18</td>\n",
       "      <td>Key Biscayne, Florida, United States</td>\n",
       "      <td>Believe in sharing economy.</td>\n",
       "      <td>within an hour</td>\n",
       "      <td>96%</td>\n",
       "      <td>NaN</td>\n",
       "      <td>t</td>\n",
       "      <td>https://a0.muscache.com/im/pictures/21428a22-4...</td>\n",
       "      <td>https://a0.muscache.com/im/pictures/21428a22-4...</td>\n",
       "      <td>Mitte</td>\n",
       "      <td>4.0</td>\n",
       "      <td>4.0</td>\n",
       "      <td>['email', 'phone', 'reviews', 'jumio', 'offlin...</td>\n",
       "      <td>t</td>\n",
       "      <td>t</td>\n",
       "      <td>Berlin, Berlin, Germany</td>\n",
       "      <td>Mitte</td>\n",
       "      <td>Brunnenstr. Süd</td>\n",
       "      <td>Mitte</td>\n",
       "      <td>Berlin</td>\n",
       "      <td>Berlin</td>\n",
       "      <td>10119</td>\n",
       "      <td>Berlin</td>\n",
       "      <td>Berlin, Germany</td>\n",
       "      <td>DE</td>\n",
       "      <td>Germany</td>\n",
       "      <td>52.534537</td>\n",
       "      <td>13.402557</td>\n",
       "      <td>f</td>\n",
       "      <td>Guesthouse</td>\n",
       "      <td>Entire home/apt</td>\n",
       "      <td>3</td>\n",
       "      <td>1.0</td>\n",
       "      <td>1.0</td>\n",
       "      <td>2.0</td>\n",
       "      <td>Real Bed</td>\n",
       "      <td>{TV,\"Cable TV\",Wifi,Kitchen,Gym,Heating,\"Famil...</td>\n",
       "      <td>NaN</td>\n",
       "      <td>$60.00</td>\n",
       "      <td>NaN</td>\n",
       "      <td>NaN</td>\n",
       "      <td>$200.00</td>\n",
       "      <td>$30.00</td>\n",
       "      <td>1</td>\n",
       "      <td>$28.00</td>\n",
       "      <td>4</td>\n",
       "      <td>1125</td>\n",
       "      <td>3 months ago</td>\n",
       "      <td>t</td>\n",
       "      <td>0</td>\n",
       "      <td>21</td>\n",
       "      <td>51</td>\n",
       "      <td>141</td>\n",
       "      <td>2018-11-07</td>\n",
       "      <td>118</td>\n",
       "      <td>2016-04-11</td>\n",
       "      <td>2018-10-28</td>\n",
       "      <td>93.0</td>\n",
       "      <td>10.0</td>\n",
       "      <td>9.0</td>\n",
       "      <td>10.0</td>\n",
       "      <td>10.0</td>\n",
       "      <td>10.0</td>\n",
       "      <td>9.0</td>\n",
       "      <td>t</td>\n",
       "      <td>NaN</td>\n",
       "      <td>NaN</td>\n",
       "      <td>f</td>\n",
       "      <td>f</td>\n",
       "      <td>strict_14_with_grace_period</td>\n",
       "      <td>f</td>\n",
       "      <td>f</td>\n",
       "      <td>4</td>\n",
       "      <td>3.76</td>\n",
       "    </tr>\n",
       "  </tbody>\n",
       "</table>\n",
       "</div>"
      ],
      "text/plain": [
       "     id                        listing_url       scrape_id last_scraped  \\\n",
       "0  2015  https://www.airbnb.com/rooms/2015  20181107122246   2018-11-07   \n",
       "\n",
       "                                               name  \\\n",
       "0  Berlin-Mitte Value! Quiet courtyard/very central   \n",
       "\n",
       "                                             summary  \\\n",
       "0  Great location!  30 of 75 sq meters. This wood...   \n",
       "\n",
       "                                               space  \\\n",
       "0  A+++ location! This „Einliegerwohnung“ is an e...   \n",
       "\n",
       "                                         description experiences_offered  \\\n",
       "0  Great location!  30 of 75 sq meters. This wood...                none   \n",
       "\n",
       "                               neighborhood_overview  \\\n",
       "0  It is located in the former East Berlin area o...   \n",
       "\n",
       "                                               notes  \\\n",
       "0  This is my home, not a hotel. I rent out occas...   \n",
       "\n",
       "                                             transit  \\\n",
       "0  Close to U-Bahn U8 and U2 (metro), Trams M12, ...   \n",
       "\n",
       "                                              access       interaction  \\\n",
       "0  Simple kitchen/cooking, refrigerator, microwav...  Always available   \n",
       "\n",
       "                                         house_rules  thumbnail_url  \\\n",
       "0  No parties No events No pets No smoking, not e...            NaN   \n",
       "\n",
       "   medium_url                                        picture_url  \\\n",
       "0         NaN  https://a0.muscache.com/im/pictures/260fd609-7...   \n",
       "\n",
       "   xl_picture_url  host_id                                host_url host_name  \\\n",
       "0             NaN     2217  https://www.airbnb.com/users/show/2217       Ian   \n",
       "\n",
       "   host_since                         host_location  \\\n",
       "0  2008-08-18  Key Biscayne, Florida, United States   \n",
       "\n",
       "                    host_about host_response_time host_response_rate  \\\n",
       "0  Believe in sharing economy.     within an hour                96%   \n",
       "\n",
       "   host_acceptance_rate host_is_superhost  \\\n",
       "0                   NaN                 t   \n",
       "\n",
       "                                  host_thumbnail_url  \\\n",
       "0  https://a0.muscache.com/im/pictures/21428a22-4...   \n",
       "\n",
       "                                    host_picture_url host_neighbourhood  \\\n",
       "0  https://a0.muscache.com/im/pictures/21428a22-4...              Mitte   \n",
       "\n",
       "   host_listings_count  host_total_listings_count  \\\n",
       "0                  4.0                        4.0   \n",
       "\n",
       "                                  host_verifications host_has_profile_pic  \\\n",
       "0  ['email', 'phone', 'reviews', 'jumio', 'offlin...                    t   \n",
       "\n",
       "  host_identity_verified                   street neighbourhood  \\\n",
       "0                      t  Berlin, Berlin, Germany         Mitte   \n",
       "\n",
       "  neighbourhood_cleansed neighbourhood_group_cleansed    city   state zipcode  \\\n",
       "0        Brunnenstr. Süd                        Mitte  Berlin  Berlin   10119   \n",
       "\n",
       "   market   smart_location country_code  country   latitude  longitude  \\\n",
       "0  Berlin  Berlin, Germany           DE  Germany  52.534537  13.402557   \n",
       "\n",
       "  is_location_exact property_type        room_type  accommodates  bathrooms  \\\n",
       "0                 f    Guesthouse  Entire home/apt             3        1.0   \n",
       "\n",
       "   bedrooms  beds  bed_type  \\\n",
       "0       1.0   2.0  Real Bed   \n",
       "\n",
       "                                           amenities  square_feet   price  \\\n",
       "0  {TV,\"Cable TV\",Wifi,Kitchen,Gym,Heating,\"Famil...          NaN  $60.00   \n",
       "\n",
       "  weekly_price monthly_price security_deposit cleaning_fee  guests_included  \\\n",
       "0          NaN           NaN          $200.00       $30.00                1   \n",
       "\n",
       "  extra_people  minimum_nights  maximum_nights calendar_updated  \\\n",
       "0       $28.00               4            1125     3 months ago   \n",
       "\n",
       "  has_availability  availability_30  availability_60  availability_90  \\\n",
       "0                t                0               21               51   \n",
       "\n",
       "   availability_365 calendar_last_scraped  number_of_reviews first_review  \\\n",
       "0               141            2018-11-07                118   2016-04-11   \n",
       "\n",
       "  last_review  review_scores_rating  review_scores_accuracy  \\\n",
       "0  2018-10-28                  93.0                    10.0   \n",
       "\n",
       "   review_scores_cleanliness  review_scores_checkin  \\\n",
       "0                        9.0                   10.0   \n",
       "\n",
       "   review_scores_communication  review_scores_location  review_scores_value  \\\n",
       "0                         10.0                    10.0                  9.0   \n",
       "\n",
       "  requires_license license  jurisdiction_names instant_bookable  \\\n",
       "0                t     NaN                 NaN                f   \n",
       "\n",
       "  is_business_travel_ready          cancellation_policy  \\\n",
       "0                        f  strict_14_with_grace_period   \n",
       "\n",
       "  require_guest_profile_picture require_guest_phone_verification  \\\n",
       "0                             f                                f   \n",
       "\n",
       "   calculated_host_listings_count  reviews_per_month  \n",
       "0                               4               3.76  "
      ]
     },
     "execution_count": 6,
     "metadata": {},
     "output_type": "execute_result"
    }
   ],
   "source": [
    "# Calling the head of the dataset to visualize what the first row of observations looks like\n",
    "\n",
    "listings_summary.head(1)"
   ]
  },
  {
   "cell_type": "code",
   "execution_count": 7,
   "metadata": {},
   "outputs": [
    {
     "data": {
      "text/plain": [
       "Tempelhofer Vorstadt                  1325\n",
       "Frankfurter Allee Süd FK              1282\n",
       "Alexanderplatz                        1091\n",
       "Reuterstraße                          1002\n",
       "Rixdorf                                880\n",
       "                                      ... \n",
       "Malchow, Wartenberg und Falkenberg       3\n",
       "Allende-Viertel                          3\n",
       "Neu-Hohenschönhausen Süd                 2\n",
       "Hellersdorf-Ost                          1\n",
       "MV 2                                     1\n",
       "Name: neighbourhood_cleansed, Length: 136, dtype: int64"
      ]
     },
     "execution_count": 7,
     "metadata": {},
     "output_type": "execute_result"
    }
   ],
   "source": [
    "listings_summary['neighbourhood_cleansed'].value_counts()"
   ]
  },
  {
   "cell_type": "code",
   "execution_count": null,
   "metadata": {},
   "outputs": [],
   "source": []
  },
  {
   "cell_type": "code",
   "execution_count": 8,
   "metadata": {
    "colab": {},
    "colab_type": "code",
    "id": "qLjDA1dEI-2U"
   },
   "outputs": [],
   "source": [
    "# We can already tell later on we will have to drop a few columns where the cardinality for some\n",
    "# object features, while finite, will be very high epecially in the case of URLs, names, reviews,\n",
    "# descriptions, etc. so we will remove a few of them now and possibly later."
   ]
  },
  {
   "cell_type": "code",
   "execution_count": 9,
   "metadata": {
    "colab": {
     "base_uri": "https://localhost:8080/",
     "height": 1000
    },
    "colab_type": "code",
    "id": "j-LG5uTeI-2Y",
    "outputId": "f0ebb0f3-f73f-49ea-ef0b-104d40f174b0"
   },
   "outputs": [
    {
     "name": "stdout",
     "output_type": "stream",
     "text": [
      "None\n",
      "There are/is 22552 unique value(s) for column: listing_url\n",
      "None\n",
      "There are/is 2 unique value(s) for column: last_scraped\n",
      "There are/is 21873 unique value(s) for column: name\n",
      "There are/is 21041 unique value(s) for column: summary\n",
      "There are/is 13598 unique value(s) for column: space\n",
      "There are/is 21997 unique value(s) for column: description\n",
      "There are/is 1 unique value(s) for column: experiences_offered\n",
      "There are/is 10781 unique value(s) for column: neighborhood_overview\n",
      "There are/is 6687 unique value(s) for column: notes\n",
      "There are/is 12308 unique value(s) for column: transit\n",
      "There are/is 9946 unique value(s) for column: access\n",
      "There are/is 9584 unique value(s) for column: interaction\n",
      "There are/is 10350 unique value(s) for column: house_rules\n",
      "None\n",
      "None\n",
      "There are/is 22465 unique value(s) for column: picture_url\n",
      "None\n",
      "None\n",
      "There are/is 19180 unique value(s) for column: host_url\n",
      "There are/is 5997 unique value(s) for column: host_name\n",
      "There are/is 2914 unique value(s) for column: host_since\n",
      "There are/is 1036 unique value(s) for column: host_location\n",
      "There are/is 8879 unique value(s) for column: host_about\n",
      "There are/is 4 unique value(s) for column: host_response_time\n",
      "There are/is 64 unique value(s) for column: host_response_rate\n",
      "None\n",
      "There are/is 2 unique value(s) for column: host_is_superhost\n",
      "There are/is 19100 unique value(s) for column: host_thumbnail_url\n",
      "There are/is 19100 unique value(s) for column: host_picture_url\n",
      "There are/is 181 unique value(s) for column: host_neighbourhood\n",
      "None\n",
      "None\n",
      "There are/is 301 unique value(s) for column: host_verifications\n",
      "There are/is 2 unique value(s) for column: host_has_profile_pic\n",
      "There are/is 2 unique value(s) for column: host_identity_verified\n",
      "There are/is 86 unique value(s) for column: street\n",
      "There are/is 91 unique value(s) for column: neighbourhood\n",
      "There are/is 136 unique value(s) for column: neighbourhood_cleansed\n",
      "There are/is 12 unique value(s) for column: neighbourhood_group_cleansed\n",
      "There are/is 60 unique value(s) for column: city\n",
      "There are/is 19 unique value(s) for column: state\n",
      "There are/is 215 unique value(s) for column: zipcode\n",
      "There are/is 6 unique value(s) for column: market\n",
      "There are/is 61 unique value(s) for column: smart_location\n",
      "There are/is 1 unique value(s) for column: country_code\n",
      "There are/is 1 unique value(s) for column: country\n",
      "None\n",
      "None\n",
      "There are/is 2 unique value(s) for column: is_location_exact\n",
      "There are/is 33 unique value(s) for column: property_type\n",
      "There are/is 3 unique value(s) for column: room_type\n",
      "None\n",
      "None\n",
      "None\n",
      "None\n",
      "There are/is 5 unique value(s) for column: bed_type\n",
      "There are/is 19985 unique value(s) for column: amenities\n",
      "None\n",
      "There are/is 295 unique value(s) for column: price\n",
      "There are/is 387 unique value(s) for column: weekly_price\n",
      "There are/is 426 unique value(s) for column: monthly_price\n",
      "There are/is 142 unique value(s) for column: security_deposit\n",
      "There are/is 112 unique value(s) for column: cleaning_fee\n",
      "None\n",
      "There are/is 65 unique value(s) for column: extra_people\n",
      "None\n",
      "None\n",
      "There are/is 75 unique value(s) for column: calendar_updated\n",
      "There are/is 1 unique value(s) for column: has_availability\n",
      "None\n",
      "None\n",
      "None\n",
      "None\n",
      "There are/is 2 unique value(s) for column: calendar_last_scraped\n",
      "None\n",
      "There are/is 2228 unique value(s) for column: first_review\n",
      "There are/is 1312 unique value(s) for column: last_review\n",
      "None\n",
      "None\n",
      "None\n",
      "None\n",
      "None\n",
      "None\n",
      "None\n",
      "There are/is 2 unique value(s) for column: requires_license\n",
      "There are/is 1387 unique value(s) for column: license\n",
      "None\n",
      "There are/is 2 unique value(s) for column: instant_bookable\n",
      "There are/is 1 unique value(s) for column: is_business_travel_ready\n",
      "There are/is 5 unique value(s) for column: cancellation_policy\n",
      "There are/is 2 unique value(s) for column: require_guest_profile_picture\n",
      "There are/is 2 unique value(s) for column: require_guest_phone_verification\n",
      "None\n",
      "None\n"
     ]
    }
   ],
   "source": [
    "# First, we will use a for loop to check the number of unique values in each column.  This is acheived\n",
    "# by taking the length of the value_counts of a column.\n",
    "\n",
    "for col in listings_summary:\n",
    "    print(f'There are/is {len(listings_summary[col].value_counts())} unique value(s) for column: {col}') if listings_summary[col].dtypes=='O' else print(None)"
   ]
  },
  {
   "cell_type": "code",
   "execution_count": 10,
   "metadata": {
    "colab": {
     "base_uri": "https://localhost:8080/",
     "height": 202
    },
    "colab_type": "code",
    "id": "fYrC8g-QI-2b",
    "outputId": "7ee30477-b4a0-4f7a-f977-4b0929e65d16"
   },
   "outputs": [
    {
     "data": {
      "text/html": [
       "<div>\n",
       "<style scoped>\n",
       "    .dataframe tbody tr th:only-of-type {\n",
       "        vertical-align: middle;\n",
       "    }\n",
       "\n",
       "    .dataframe tbody tr th {\n",
       "        vertical-align: top;\n",
       "    }\n",
       "\n",
       "    .dataframe thead th {\n",
       "        text-align: right;\n",
       "    }\n",
       "</style>\n",
       "<table border=\"1\" class=\"dataframe\">\n",
       "  <thead>\n",
       "    <tr style=\"text-align: right;\">\n",
       "      <th></th>\n",
       "      <th>id</th>\n",
       "      <th>listing_url</th>\n",
       "      <th>scrape_id</th>\n",
       "      <th>last_scraped</th>\n",
       "      <th>name</th>\n",
       "      <th>summary</th>\n",
       "      <th>space</th>\n",
       "      <th>description</th>\n",
       "      <th>experiences_offered</th>\n",
       "      <th>neighborhood_overview</th>\n",
       "      <th>notes</th>\n",
       "      <th>transit</th>\n",
       "      <th>access</th>\n",
       "      <th>interaction</th>\n",
       "      <th>house_rules</th>\n",
       "      <th>thumbnail_url</th>\n",
       "      <th>medium_url</th>\n",
       "      <th>picture_url</th>\n",
       "      <th>xl_picture_url</th>\n",
       "      <th>host_id</th>\n",
       "      <th>host_url</th>\n",
       "      <th>host_name</th>\n",
       "      <th>host_since</th>\n",
       "      <th>host_location</th>\n",
       "      <th>host_about</th>\n",
       "      <th>host_response_time</th>\n",
       "      <th>host_response_rate</th>\n",
       "      <th>host_acceptance_rate</th>\n",
       "      <th>host_is_superhost</th>\n",
       "      <th>host_thumbnail_url</th>\n",
       "      <th>host_picture_url</th>\n",
       "      <th>host_neighbourhood</th>\n",
       "      <th>host_listings_count</th>\n",
       "      <th>host_total_listings_count</th>\n",
       "      <th>host_verifications</th>\n",
       "      <th>host_has_profile_pic</th>\n",
       "      <th>host_identity_verified</th>\n",
       "      <th>street</th>\n",
       "      <th>neighbourhood</th>\n",
       "      <th>neighbourhood_cleansed</th>\n",
       "      <th>neighbourhood_group_cleansed</th>\n",
       "      <th>city</th>\n",
       "      <th>state</th>\n",
       "      <th>zipcode</th>\n",
       "      <th>market</th>\n",
       "      <th>smart_location</th>\n",
       "      <th>country_code</th>\n",
       "      <th>country</th>\n",
       "      <th>latitude</th>\n",
       "      <th>longitude</th>\n",
       "      <th>is_location_exact</th>\n",
       "      <th>property_type</th>\n",
       "      <th>room_type</th>\n",
       "      <th>accommodates</th>\n",
       "      <th>bathrooms</th>\n",
       "      <th>bedrooms</th>\n",
       "      <th>beds</th>\n",
       "      <th>bed_type</th>\n",
       "      <th>amenities</th>\n",
       "      <th>square_feet</th>\n",
       "      <th>price</th>\n",
       "      <th>weekly_price</th>\n",
       "      <th>monthly_price</th>\n",
       "      <th>security_deposit</th>\n",
       "      <th>cleaning_fee</th>\n",
       "      <th>guests_included</th>\n",
       "      <th>extra_people</th>\n",
       "      <th>minimum_nights</th>\n",
       "      <th>maximum_nights</th>\n",
       "      <th>calendar_updated</th>\n",
       "      <th>has_availability</th>\n",
       "      <th>availability_30</th>\n",
       "      <th>availability_60</th>\n",
       "      <th>availability_90</th>\n",
       "      <th>availability_365</th>\n",
       "      <th>calendar_last_scraped</th>\n",
       "      <th>number_of_reviews</th>\n",
       "      <th>first_review</th>\n",
       "      <th>last_review</th>\n",
       "      <th>review_scores_rating</th>\n",
       "      <th>review_scores_accuracy</th>\n",
       "      <th>review_scores_cleanliness</th>\n",
       "      <th>review_scores_checkin</th>\n",
       "      <th>review_scores_communication</th>\n",
       "      <th>review_scores_location</th>\n",
       "      <th>review_scores_value</th>\n",
       "      <th>requires_license</th>\n",
       "      <th>license</th>\n",
       "      <th>jurisdiction_names</th>\n",
       "      <th>instant_bookable</th>\n",
       "      <th>is_business_travel_ready</th>\n",
       "      <th>cancellation_policy</th>\n",
       "      <th>require_guest_profile_picture</th>\n",
       "      <th>require_guest_phone_verification</th>\n",
       "      <th>calculated_host_listings_count</th>\n",
       "      <th>reviews_per_month</th>\n",
       "    </tr>\n",
       "  </thead>\n",
       "  <tbody>\n",
       "    <tr>\n",
       "      <th>0</th>\n",
       "      <td>2015</td>\n",
       "      <td>https://www.airbnb.com/rooms/2015</td>\n",
       "      <td>20181107122246</td>\n",
       "      <td>2018-11-07</td>\n",
       "      <td>Berlin-Mitte Value! Quiet courtyard/very central</td>\n",
       "      <td>Great location!  30 of 75 sq meters. This wood...</td>\n",
       "      <td>A+++ location! This „Einliegerwohnung“ is an e...</td>\n",
       "      <td>Great location!  30 of 75 sq meters. This wood...</td>\n",
       "      <td>none</td>\n",
       "      <td>It is located in the former East Berlin area o...</td>\n",
       "      <td>This is my home, not a hotel. I rent out occas...</td>\n",
       "      <td>Close to U-Bahn U8 and U2 (metro), Trams M12, ...</td>\n",
       "      <td>Simple kitchen/cooking, refrigerator, microwav...</td>\n",
       "      <td>Always available</td>\n",
       "      <td>No parties No events No pets No smoking, not e...</td>\n",
       "      <td>NaN</td>\n",
       "      <td>NaN</td>\n",
       "      <td>https://a0.muscache.com/im/pictures/260fd609-7...</td>\n",
       "      <td>NaN</td>\n",
       "      <td>2217</td>\n",
       "      <td>https://www.airbnb.com/users/show/2217</td>\n",
       "      <td>Ian</td>\n",
       "      <td>2008-08-18</td>\n",
       "      <td>Key Biscayne, Florida, United States</td>\n",
       "      <td>Believe in sharing economy.</td>\n",
       "      <td>within an hour</td>\n",
       "      <td>96%</td>\n",
       "      <td>NaN</td>\n",
       "      <td>t</td>\n",
       "      <td>https://a0.muscache.com/im/pictures/21428a22-4...</td>\n",
       "      <td>https://a0.muscache.com/im/pictures/21428a22-4...</td>\n",
       "      <td>Mitte</td>\n",
       "      <td>4.0</td>\n",
       "      <td>4.0</td>\n",
       "      <td>['email', 'phone', 'reviews', 'jumio', 'offlin...</td>\n",
       "      <td>t</td>\n",
       "      <td>t</td>\n",
       "      <td>Berlin, Berlin, Germany</td>\n",
       "      <td>Mitte</td>\n",
       "      <td>Brunnenstr. Süd</td>\n",
       "      <td>Mitte</td>\n",
       "      <td>Berlin</td>\n",
       "      <td>Berlin</td>\n",
       "      <td>10119</td>\n",
       "      <td>Berlin</td>\n",
       "      <td>Berlin, Germany</td>\n",
       "      <td>DE</td>\n",
       "      <td>Germany</td>\n",
       "      <td>52.534537</td>\n",
       "      <td>13.402557</td>\n",
       "      <td>f</td>\n",
       "      <td>Guesthouse</td>\n",
       "      <td>Entire home/apt</td>\n",
       "      <td>3</td>\n",
       "      <td>1.0</td>\n",
       "      <td>1.0</td>\n",
       "      <td>2.0</td>\n",
       "      <td>Real Bed</td>\n",
       "      <td>{TV,\"Cable TV\",Wifi,Kitchen,Gym,Heating,\"Famil...</td>\n",
       "      <td>NaN</td>\n",
       "      <td>$60.00</td>\n",
       "      <td>NaN</td>\n",
       "      <td>NaN</td>\n",
       "      <td>$200.00</td>\n",
       "      <td>$30.00</td>\n",
       "      <td>1</td>\n",
       "      <td>$28.00</td>\n",
       "      <td>4</td>\n",
       "      <td>1125</td>\n",
       "      <td>3 months ago</td>\n",
       "      <td>t</td>\n",
       "      <td>0</td>\n",
       "      <td>21</td>\n",
       "      <td>51</td>\n",
       "      <td>141</td>\n",
       "      <td>2018-11-07</td>\n",
       "      <td>118</td>\n",
       "      <td>2016-04-11</td>\n",
       "      <td>2018-10-28</td>\n",
       "      <td>93.0</td>\n",
       "      <td>10.0</td>\n",
       "      <td>9.0</td>\n",
       "      <td>10.0</td>\n",
       "      <td>10.0</td>\n",
       "      <td>10.0</td>\n",
       "      <td>9.0</td>\n",
       "      <td>t</td>\n",
       "      <td>NaN</td>\n",
       "      <td>NaN</td>\n",
       "      <td>f</td>\n",
       "      <td>f</td>\n",
       "      <td>strict_14_with_grace_period</td>\n",
       "      <td>f</td>\n",
       "      <td>f</td>\n",
       "      <td>4</td>\n",
       "      <td>3.76</td>\n",
       "    </tr>\n",
       "  </tbody>\n",
       "</table>\n",
       "</div>"
      ],
      "text/plain": [
       "     id                        listing_url       scrape_id last_scraped  \\\n",
       "0  2015  https://www.airbnb.com/rooms/2015  20181107122246   2018-11-07   \n",
       "\n",
       "                                               name  \\\n",
       "0  Berlin-Mitte Value! Quiet courtyard/very central   \n",
       "\n",
       "                                             summary  \\\n",
       "0  Great location!  30 of 75 sq meters. This wood...   \n",
       "\n",
       "                                               space  \\\n",
       "0  A+++ location! This „Einliegerwohnung“ is an e...   \n",
       "\n",
       "                                         description experiences_offered  \\\n",
       "0  Great location!  30 of 75 sq meters. This wood...                none   \n",
       "\n",
       "                               neighborhood_overview  \\\n",
       "0  It is located in the former East Berlin area o...   \n",
       "\n",
       "                                               notes  \\\n",
       "0  This is my home, not a hotel. I rent out occas...   \n",
       "\n",
       "                                             transit  \\\n",
       "0  Close to U-Bahn U8 and U2 (metro), Trams M12, ...   \n",
       "\n",
       "                                              access       interaction  \\\n",
       "0  Simple kitchen/cooking, refrigerator, microwav...  Always available   \n",
       "\n",
       "                                         house_rules  thumbnail_url  \\\n",
       "0  No parties No events No pets No smoking, not e...            NaN   \n",
       "\n",
       "   medium_url                                        picture_url  \\\n",
       "0         NaN  https://a0.muscache.com/im/pictures/260fd609-7...   \n",
       "\n",
       "   xl_picture_url  host_id                                host_url host_name  \\\n",
       "0             NaN     2217  https://www.airbnb.com/users/show/2217       Ian   \n",
       "\n",
       "   host_since                         host_location  \\\n",
       "0  2008-08-18  Key Biscayne, Florida, United States   \n",
       "\n",
       "                    host_about host_response_time host_response_rate  \\\n",
       "0  Believe in sharing economy.     within an hour                96%   \n",
       "\n",
       "   host_acceptance_rate host_is_superhost  \\\n",
       "0                   NaN                 t   \n",
       "\n",
       "                                  host_thumbnail_url  \\\n",
       "0  https://a0.muscache.com/im/pictures/21428a22-4...   \n",
       "\n",
       "                                    host_picture_url host_neighbourhood  \\\n",
       "0  https://a0.muscache.com/im/pictures/21428a22-4...              Mitte   \n",
       "\n",
       "   host_listings_count  host_total_listings_count  \\\n",
       "0                  4.0                        4.0   \n",
       "\n",
       "                                  host_verifications host_has_profile_pic  \\\n",
       "0  ['email', 'phone', 'reviews', 'jumio', 'offlin...                    t   \n",
       "\n",
       "  host_identity_verified                   street neighbourhood  \\\n",
       "0                      t  Berlin, Berlin, Germany         Mitte   \n",
       "\n",
       "  neighbourhood_cleansed neighbourhood_group_cleansed    city   state zipcode  \\\n",
       "0        Brunnenstr. Süd                        Mitte  Berlin  Berlin   10119   \n",
       "\n",
       "   market   smart_location country_code  country   latitude  longitude  \\\n",
       "0  Berlin  Berlin, Germany           DE  Germany  52.534537  13.402557   \n",
       "\n",
       "  is_location_exact property_type        room_type  accommodates  bathrooms  \\\n",
       "0                 f    Guesthouse  Entire home/apt             3        1.0   \n",
       "\n",
       "   bedrooms  beds  bed_type  \\\n",
       "0       1.0   2.0  Real Bed   \n",
       "\n",
       "                                           amenities  square_feet   price  \\\n",
       "0  {TV,\"Cable TV\",Wifi,Kitchen,Gym,Heating,\"Famil...          NaN  $60.00   \n",
       "\n",
       "  weekly_price monthly_price security_deposit cleaning_fee  guests_included  \\\n",
       "0          NaN           NaN          $200.00       $30.00                1   \n",
       "\n",
       "  extra_people  minimum_nights  maximum_nights calendar_updated  \\\n",
       "0       $28.00               4            1125     3 months ago   \n",
       "\n",
       "  has_availability  availability_30  availability_60  availability_90  \\\n",
       "0                t                0               21               51   \n",
       "\n",
       "   availability_365 calendar_last_scraped  number_of_reviews first_review  \\\n",
       "0               141            2018-11-07                118   2016-04-11   \n",
       "\n",
       "  last_review  review_scores_rating  review_scores_accuracy  \\\n",
       "0  2018-10-28                  93.0                    10.0   \n",
       "\n",
       "   review_scores_cleanliness  review_scores_checkin  \\\n",
       "0                        9.0                   10.0   \n",
       "\n",
       "   review_scores_communication  review_scores_location  review_scores_value  \\\n",
       "0                         10.0                    10.0                  9.0   \n",
       "\n",
       "  requires_license license  jurisdiction_names instant_bookable  \\\n",
       "0                t     NaN                 NaN                f   \n",
       "\n",
       "  is_business_travel_ready          cancellation_policy  \\\n",
       "0                        f  strict_14_with_grace_period   \n",
       "\n",
       "  require_guest_profile_picture require_guest_phone_verification  \\\n",
       "0                             f                                f   \n",
       "\n",
       "   calculated_host_listings_count  reviews_per_month  \n",
       "0                               4               3.76  "
      ]
     },
     "execution_count": 10,
     "metadata": {},
     "output_type": "execute_result"
    }
   ],
   "source": [
    "listings_summary.head(1)"
   ]
  },
  {
   "cell_type": "code",
   "execution_count": 11,
   "metadata": {
    "colab": {},
    "colab_type": "code",
    "id": "ND4mo69tI-2e"
   },
   "outputs": [],
   "source": [
    "# The first thing we will do is remove the object columns with high cardinality and features that are probably\n",
    "# redundant like 'city' since this is the Berlin AirBnB dataset - 'zipcode' may be useful but neighbourhood could\n",
    "# cover that.\n",
    "\n",
    "high_cardin = ['listing_url', 'name', 'summary', 'space', 'description', 'experiences_offered', 'neighborhood_overview',\n",
    "               'notes', 'transit', 'access', 'interaction', 'house_rules', 'thumbnail_url', 'medium_url',\n",
    "               'picture_url', 'xl_picture_url', 'host_url', 'host_name', 'host_about', 'host_thumbnail_url',\n",
    "               'host_picture_url', 'host_verifications', 'street', 'city', 'state', 'zipcode', 'market',\n",
    "               'smart_location', 'country_code', 'country', 'bed_type', 'amenities', 'weekly_price', 'monthly_price',\n",
    "               'has_availability', 'calendar_last_scraped', 'requires_license', 'license', 'is_business_travel_ready',\n",
    "               'require_guest_profile_picture', 'require_guest_phone_verification']"
   ]
  },
  {
   "cell_type": "code",
   "execution_count": 12,
   "metadata": {
    "colab": {},
    "colab_type": "code",
    "id": "CRV8gcp9I-2i"
   },
   "outputs": [],
   "source": [
    "listings_df = listings_summary.drop(columns=high_cardin)"
   ]
  },
  {
   "cell_type": "code",
   "execution_count": 13,
   "metadata": {
    "colab": {
     "base_uri": "https://localhost:8080/",
     "height": 985
    },
    "colab_type": "code",
    "id": "A_43oL4II-2m",
    "outputId": "7c549d7c-68be-4859-ad6c-573c3d50ea9d"
   },
   "outputs": [
    {
     "data": {
      "text/plain": [
       "id                                    0\n",
       "scrape_id                             0\n",
       "last_scraped                          0\n",
       "host_id                               0\n",
       "host_since                           26\n",
       "host_location                       116\n",
       "host_response_time                12894\n",
       "host_response_rate                12895\n",
       "host_acceptance_rate              22552\n",
       "host_is_superhost                    26\n",
       "host_neighbourhood                 5094\n",
       "host_listings_count                  26\n",
       "host_total_listings_count            26\n",
       "host_has_profile_pic                 26\n",
       "host_identity_verified               26\n",
       "neighbourhood                      1131\n",
       "neighbourhood_cleansed                0\n",
       "neighbourhood_group_cleansed          0\n",
       "latitude                              0\n",
       "longitude                             0\n",
       "is_location_exact                     0\n",
       "property_type                         0\n",
       "room_type                             0\n",
       "accommodates                          0\n",
       "bathrooms                            32\n",
       "bedrooms                             18\n",
       "beds                                 40\n",
       "square_feet                       22106\n",
       "price                                 0\n",
       "security_deposit                   9361\n",
       "cleaning_fee                       7146\n",
       "guests_included                       0\n",
       "extra_people                          0\n",
       "minimum_nights                        0\n",
       "maximum_nights                        0\n",
       "calendar_updated                      0\n",
       "availability_30                       0\n",
       "availability_60                       0\n",
       "availability_90                       0\n",
       "availability_365                      0\n",
       "number_of_reviews                     0\n",
       "first_review                       3914\n",
       "last_review                        3908\n",
       "review_scores_rating               4389\n",
       "review_scores_accuracy             4414\n",
       "review_scores_cleanliness          4411\n",
       "review_scores_checkin              4432\n",
       "review_scores_communication        4418\n",
       "review_scores_location             4431\n",
       "review_scores_value                4435\n",
       "jurisdiction_names                22552\n",
       "instant_bookable                      0\n",
       "cancellation_policy                   0\n",
       "calculated_host_listings_count        0\n",
       "reviews_per_month                  3914\n",
       "dtype: int64"
      ]
     },
     "execution_count": 13,
     "metadata": {},
     "output_type": "execute_result"
    }
   ],
   "source": [
    "listings_df.isna().sum()"
   ]
  },
  {
   "cell_type": "code",
   "execution_count": 14,
   "metadata": {
    "colab": {},
    "colab_type": "code",
    "id": "Lw0Hx1ZKI-2p"
   },
   "outputs": [],
   "source": [
    "# We will also remove columns that have many NaN values\n",
    "\n",
    "high_na = ['host_response_time', 'host_response_rate', 'host_acceptance_rate', 'square_feet', 'jurisdiction_names']\n",
    "\n",
    "Berlin_airbnb = listings_df.drop(columns=high_na)"
   ]
  },
  {
   "cell_type": "code",
   "execution_count": 15,
   "metadata": {
    "colab": {
     "base_uri": "https://localhost:8080/",
     "height": 898
    },
    "colab_type": "code",
    "id": "sXWJOOiDI-2u",
    "outputId": "687d4f42-6095-423a-8f7a-4843456571b0"
   },
   "outputs": [
    {
     "data": {
      "text/plain": [
       "id                                  int64\n",
       "scrape_id                           int64\n",
       "last_scraped                       object\n",
       "host_id                             int64\n",
       "host_since                         object\n",
       "host_location                      object\n",
       "host_is_superhost                  object\n",
       "host_neighbourhood                 object\n",
       "host_listings_count               float64\n",
       "host_total_listings_count         float64\n",
       "host_has_profile_pic               object\n",
       "host_identity_verified             object\n",
       "neighbourhood                      object\n",
       "neighbourhood_cleansed             object\n",
       "neighbourhood_group_cleansed       object\n",
       "latitude                          float64\n",
       "longitude                         float64\n",
       "is_location_exact                  object\n",
       "property_type                      object\n",
       "room_type                          object\n",
       "accommodates                        int64\n",
       "bathrooms                         float64\n",
       "bedrooms                          float64\n",
       "beds                              float64\n",
       "price                              object\n",
       "security_deposit                   object\n",
       "cleaning_fee                       object\n",
       "guests_included                     int64\n",
       "extra_people                       object\n",
       "minimum_nights                      int64\n",
       "maximum_nights                      int64\n",
       "calendar_updated                   object\n",
       "availability_30                     int64\n",
       "availability_60                     int64\n",
       "availability_90                     int64\n",
       "availability_365                    int64\n",
       "number_of_reviews                   int64\n",
       "first_review                       object\n",
       "last_review                        object\n",
       "review_scores_rating              float64\n",
       "review_scores_accuracy            float64\n",
       "review_scores_cleanliness         float64\n",
       "review_scores_checkin             float64\n",
       "review_scores_communication       float64\n",
       "review_scores_location            float64\n",
       "review_scores_value               float64\n",
       "instant_bookable                   object\n",
       "cancellation_policy                object\n",
       "calculated_host_listings_count      int64\n",
       "reviews_per_month                 float64\n",
       "dtype: object"
      ]
     },
     "execution_count": 15,
     "metadata": {},
     "output_type": "execute_result"
    }
   ],
   "source": [
    "Berlin_airbnb.dtypes"
   ]
  },
  {
   "cell_type": "code",
   "execution_count": 16,
   "metadata": {
    "colab": {},
    "colab_type": "code",
    "id": "yBMvU63lI-2x"
   },
   "outputs": [],
   "source": [
    "# Next we will engineer some features based on the data"
   ]
  },
  {
   "cell_type": "code",
   "execution_count": 17,
   "metadata": {
    "colab": {},
    "colab_type": "code",
    "id": "8vhYXw5bI-21"
   },
   "outputs": [],
   "source": [
    "# Originally, the 'security_deposit' column would've been kept and replaced NaN values with the mean but,\n",
    "# Since there are many NaN values we will make a binary feature stating '1' if they require a security deposit\n",
    "# and '0' if the do not require one.\n",
    "\n",
    "\n",
    "# TODO: drop Berlin_airbnb['security_deposit']\n",
    "has_security_dep = []\n",
    "for i in Berlin_airbnb['security_deposit']:\n",
    "    if i==np.NaN:\n",
    "        has_security_dep.append(0)\n",
    "    else:\n",
    "        has_security_dep.append(1)\n",
    "Berlin_airbnb['require_security_deposit'] = np.array(has_security_dep).astype(int)"
   ]
  },
  {
   "cell_type": "code",
   "execution_count": 18,
   "metadata": {
    "colab": {},
    "colab_type": "code",
    "id": "xrIaWPgGI-24"
   },
   "outputs": [],
   "source": [
    "# We will do the same with cleaning fee and call it 'has_cleaning_service'...\n",
    "\n",
    "# TODO: drop Berlin_airbnb['cleaning_fee']\n",
    "has_cleaning = []\n",
    "for i in Berlin_airbnb['cleaning_fee']:\n",
    "    if i==np.NaN:\n",
    "        has_cleaning.append(0)\n",
    "    else:\n",
    "        has_cleaning.append(1)\n",
    "Berlin_airbnb['has_cleaning_service'] = np.array(has_cleaning).astype(int)"
   ]
  },
  {
   "cell_type": "code",
   "execution_count": 19,
   "metadata": {
    "colab": {},
    "colab_type": "code",
    "id": "SgHBQcbBI-27"
   },
   "outputs": [],
   "source": [
    "# Possible columns to impute or use for feature engineering\n",
    "\n",
    "# review_scores_rating - mode = 100.00 (46 unique values between 50.00 and 100.00)\n",
    "# review_scores_accuracy - mode = 10.0 (more than 50% of the data)\n",
    "# review_scores_cleanliness - mode = 10.0\n",
    "# review_scores_checkin - mode = 10.0 (more than 50% of the data)\n",
    "# review_scores_communication - mode = 10.0 (more than 50% of the data)\n",
    "# review_scores_location - mode = 10.0\n",
    "# review_scores_value - mode = 10.0"
   ]
  },
  {
   "cell_type": "code",
   "execution_count": 20,
   "metadata": {
    "colab": {
     "base_uri": "https://localhost:8080/",
     "height": 35
    },
    "colab_type": "code",
    "id": "K-8mgCyoI-2-",
    "outputId": "a29222f7-c272-45f6-fc9d-1b1a725072ee"
   },
   "outputs": [
    {
     "name": "stdout",
     "output_type": "stream",
     "text": [
      "1300\n"
     ]
    }
   ],
   "source": [
    "# Next, we will get rid of the dollar signs and any commas that may be contained in the 'price'\n",
    "# and 'extra_people' column by making a function that will strip the dollar sign ('$') from the\n",
    "# array, remove the redundant '.00', and then remove commas for amounts 1000 or larger\n",
    "\n",
    "def dollar_to_int(row):\n",
    "    return row.strip('$')[:-3]\n",
    "def no_comma(row):\n",
    "    return row.replace(',','')\n",
    "\n",
    "# To show it works...\n",
    "\n",
    "amount = dollar_to_int('$1,300.00')\n",
    "print(no_comma(amount))"
   ]
  },
  {
   "cell_type": "code",
   "execution_count": 21,
   "metadata": {
    "colab": {},
    "colab_type": "code",
    "id": "twMMCI5_I-3A"
   },
   "outputs": [],
   "source": [
    "# Applying them to the dataset...\n",
    "\n",
    "Berlin_airbnb['price'] = Berlin_airbnb['price'].apply(dollar_to_int).apply(no_comma).astype(int)\n",
    "Berlin_airbnb['extra_people'] = Berlin_airbnb['extra_people'].apply(dollar_to_int).apply(no_comma)"
   ]
  },
  {
   "cell_type": "code",
   "execution_count": 22,
   "metadata": {
    "colab": {
     "base_uri": "https://localhost:8080/",
     "height": 35
    },
    "colab_type": "code",
    "id": "0ZIyggKuI-3D",
    "outputId": "b6886e6a-9610-4c50-8fcf-60281dfcf45f"
   },
   "outputs": [
    {
     "data": {
      "text/plain": [
       "(22552, 52)"
      ]
     },
     "execution_count": 22,
     "metadata": {},
     "output_type": "execute_result"
    }
   ],
   "source": [
    "Berlin_airbnb.shape"
   ]
  },
  {
   "cell_type": "code",
   "execution_count": 23,
   "metadata": {
    "colab": {},
    "colab_type": "code",
    "id": "PM7Wcuo8I-3H"
   },
   "outputs": [],
   "source": [
    "Berlin_airbnb = Berlin_airbnb.drop(columns=['security_deposit', 'cleaning_fee'])"
   ]
  },
  {
   "cell_type": "code",
   "execution_count": 24,
   "metadata": {
    "colab": {},
    "colab_type": "code",
    "id": "vZKt5jcKI-3L"
   },
   "outputs": [],
   "source": [
    "# 'property_type', 'room_type', 'accommodates','bathrooms', 'bedrooms', 'beds', 'bed_type','price','number_of_reviews',('review_scores_value '),'instant_bookable','cancellation_policy','neighbourhood','host_identity_verified'"
   ]
  },
  {
   "cell_type": "code",
   "execution_count": 25,
   "metadata": {
    "colab": {},
    "colab_type": "code",
    "id": "cOLXPpfvI-3P"
   },
   "outputs": [],
   "source": [
    "# Possibly useful: - Predicting 'PRICE'\n",
    "# 1. neighbourhood\n",
    "# 2. property type\n",
    "# 3. room type\n",
    "# 4. accommodates\n",
    "# 5. bathrooms\n",
    "# 6. bedrooms\n",
    "# 7. beds\n",
    "# 8. reviews_scores_value\n",
    "# 9. instant_bookable\n",
    "# 10. cancellation_policy\n",
    "# 10. has_cleaning_service\n",
    "\n",
    "### Columns we may go with\n",
    "# 'property_type', 'room_type', 'accommodates','bathrooms', 'bedrooms', 'beds', 'bed_type','price','number_of_reviews',('review_scores_value '),'instant_bookable','cancellation_policy','neighbourhood','host_identity_verified'"
   ]
  },
  {
   "cell_type": "code",
   "execution_count": 26,
   "metadata": {
    "colab": {
     "base_uri": "https://localhost:8080/",
     "height": 305
    },
    "colab_type": "code",
    "id": "SLc7ZmZVI-3S",
    "outputId": "4698cb96-51fe-4a23-de6f-14a6d7080d75"
   },
   "outputs": [
    {
     "data": {
      "text/html": [
       "<div>\n",
       "<style scoped>\n",
       "    .dataframe tbody tr th:only-of-type {\n",
       "        vertical-align: middle;\n",
       "    }\n",
       "\n",
       "    .dataframe tbody tr th {\n",
       "        vertical-align: top;\n",
       "    }\n",
       "\n",
       "    .dataframe thead th {\n",
       "        text-align: right;\n",
       "    }\n",
       "</style>\n",
       "<table border=\"1\" class=\"dataframe\">\n",
       "  <thead>\n",
       "    <tr style=\"text-align: right;\">\n",
       "      <th></th>\n",
       "      <th>property_type</th>\n",
       "      <th>room_type</th>\n",
       "      <th>accommodates</th>\n",
       "      <th>bathrooms</th>\n",
       "      <th>bedrooms</th>\n",
       "      <th>beds</th>\n",
       "      <th>price</th>\n",
       "      <th>number_of_reviews</th>\n",
       "      <th>review_scores_value</th>\n",
       "      <th>instant_bookable</th>\n",
       "      <th>cancellation_policy</th>\n",
       "      <th>neighbourhood</th>\n",
       "      <th>host_identity_verified</th>\n",
       "    </tr>\n",
       "  </thead>\n",
       "  <tbody>\n",
       "    <tr>\n",
       "      <th>0</th>\n",
       "      <td>Guesthouse</td>\n",
       "      <td>Entire home/apt</td>\n",
       "      <td>3</td>\n",
       "      <td>1.0</td>\n",
       "      <td>1.0</td>\n",
       "      <td>2.0</td>\n",
       "      <td>60</td>\n",
       "      <td>118</td>\n",
       "      <td>9.0</td>\n",
       "      <td>f</td>\n",
       "      <td>strict_14_with_grace_period</td>\n",
       "      <td>Mitte</td>\n",
       "      <td>t</td>\n",
       "    </tr>\n",
       "    <tr>\n",
       "      <th>1</th>\n",
       "      <td>Apartment</td>\n",
       "      <td>Private room</td>\n",
       "      <td>2</td>\n",
       "      <td>1.0</td>\n",
       "      <td>1.0</td>\n",
       "      <td>1.0</td>\n",
       "      <td>17</td>\n",
       "      <td>6</td>\n",
       "      <td>10.0</td>\n",
       "      <td>f</td>\n",
       "      <td>flexible</td>\n",
       "      <td>NaN</td>\n",
       "      <td>t</td>\n",
       "    </tr>\n",
       "    <tr>\n",
       "      <th>2</th>\n",
       "      <td>Apartment</td>\n",
       "      <td>Entire home/apt</td>\n",
       "      <td>4</td>\n",
       "      <td>1.0</td>\n",
       "      <td>1.0</td>\n",
       "      <td>2.0</td>\n",
       "      <td>90</td>\n",
       "      <td>143</td>\n",
       "      <td>9.0</td>\n",
       "      <td>t</td>\n",
       "      <td>strict_14_with_grace_period</td>\n",
       "      <td>Prenzlauer Berg</td>\n",
       "      <td>t</td>\n",
       "    </tr>\n",
       "    <tr>\n",
       "      <th>3</th>\n",
       "      <td>Apartment</td>\n",
       "      <td>Private room</td>\n",
       "      <td>2</td>\n",
       "      <td>1.0</td>\n",
       "      <td>1.0</td>\n",
       "      <td>1.0</td>\n",
       "      <td>26</td>\n",
       "      <td>25</td>\n",
       "      <td>9.0</td>\n",
       "      <td>f</td>\n",
       "      <td>strict_14_with_grace_period</td>\n",
       "      <td>Schöneberg</td>\n",
       "      <td>t</td>\n",
       "    </tr>\n",
       "    <tr>\n",
       "      <th>4</th>\n",
       "      <td>Apartment</td>\n",
       "      <td>Private room</td>\n",
       "      <td>2</td>\n",
       "      <td>1.0</td>\n",
       "      <td>1.0</td>\n",
       "      <td>2.0</td>\n",
       "      <td>42</td>\n",
       "      <td>197</td>\n",
       "      <td>9.0</td>\n",
       "      <td>f</td>\n",
       "      <td>moderate</td>\n",
       "      <td>Prenzlauer Berg</td>\n",
       "      <td>t</td>\n",
       "    </tr>\n",
       "  </tbody>\n",
       "</table>\n",
       "</div>"
      ],
      "text/plain": [
       "  property_type        room_type  accommodates  bathrooms  bedrooms  beds  \\\n",
       "0    Guesthouse  Entire home/apt             3        1.0       1.0   2.0   \n",
       "1     Apartment     Private room             2        1.0       1.0   1.0   \n",
       "2     Apartment  Entire home/apt             4        1.0       1.0   2.0   \n",
       "3     Apartment     Private room             2        1.0       1.0   1.0   \n",
       "4     Apartment     Private room             2        1.0       1.0   2.0   \n",
       "\n",
       "   price  number_of_reviews  review_scores_value instant_bookable  \\\n",
       "0     60                118                  9.0                f   \n",
       "1     17                  6                 10.0                f   \n",
       "2     90                143                  9.0                t   \n",
       "3     26                 25                  9.0                f   \n",
       "4     42                197                  9.0                f   \n",
       "\n",
       "           cancellation_policy    neighbourhood host_identity_verified  \n",
       "0  strict_14_with_grace_period            Mitte                      t  \n",
       "1                     flexible              NaN                      t  \n",
       "2  strict_14_with_grace_period  Prenzlauer Berg                      t  \n",
       "3  strict_14_with_grace_period       Schöneberg                      t  \n",
       "4                     moderate  Prenzlauer Berg                      t  "
      ]
     },
     "execution_count": 26,
     "metadata": {},
     "output_type": "execute_result"
    }
   ],
   "source": [
    "Berlin_subset = Berlin_airbnb[['property_type', 'room_type', 'accommodates', 'bathrooms', 'bedrooms', 'beds',\n",
    "                               'price', 'number_of_reviews', 'review_scores_value', 'instant_bookable',\n",
    "                               'cancellation_policy', 'neighbourhood', 'host_identity_verified']]\n",
    "Berlin_subset.head()"
   ]
  },
  {
   "cell_type": "code",
   "execution_count": 27,
   "metadata": {
    "colab": {},
    "colab_type": "code",
    "id": "r95hu8ugI-3V"
   },
   "outputs": [],
   "source": [
    "###### We need to include why we are using these columns!! ######\n",
    "\n",
    "# i.e. Why we chose to condense 'accommodates'"
   ]
  },
  {
   "cell_type": "code",
   "execution_count": 28,
   "metadata": {
    "colab": {
     "base_uri": "https://localhost:8080/",
     "height": 259
    },
    "colab_type": "code",
    "id": "HtGGD_-NI-3Z",
    "outputId": "0a134e6e-0edf-425d-8308-d438a81426ff"
   },
   "outputs": [
    {
     "data": {
      "text/plain": [
       "property_type              object\n",
       "room_type                  object\n",
       "accommodates                int64\n",
       "bathrooms                 float64\n",
       "bedrooms                  float64\n",
       "beds                      float64\n",
       "price                       int32\n",
       "number_of_reviews           int64\n",
       "review_scores_value       float64\n",
       "instant_bookable           object\n",
       "cancellation_policy        object\n",
       "neighbourhood              object\n",
       "host_identity_verified     object\n",
       "dtype: object"
      ]
     },
     "execution_count": 28,
     "metadata": {},
     "output_type": "execute_result"
    }
   ],
   "source": [
    "Berlin_subset.dtypes"
   ]
  },
  {
   "cell_type": "code",
   "execution_count": 29,
   "metadata": {
    "colab": {
     "base_uri": "https://localhost:8080/",
     "height": 311
    },
    "colab_type": "code",
    "id": "d2INBQWzI-3b",
    "outputId": "11dedadc-620b-4195-f958-d92e7bb47df6"
   },
   "outputs": [
    {
     "data": {
      "text/plain": [
       "2     12228\n",
       "4      3216\n",
       "1      2734\n",
       "3      2487\n",
       "6       733\n",
       "5       701\n",
       "8       151\n",
       "7       131\n",
       "10       57\n",
       "9        36\n",
       "12       24\n",
       "16       20\n",
       "11       15\n",
       "14       11\n",
       "15        6\n",
       "13        2\n",
       "Name: accommodates, dtype: int64"
      ]
     },
     "execution_count": 29,
     "metadata": {},
     "output_type": "execute_result"
    }
   ],
   "source": [
    "Berlin_subset['accommodates'].value_counts()"
   ]
  },
  {
   "cell_type": "code",
   "execution_count": 30,
   "metadata": {
    "colab": {
     "base_uri": "https://localhost:8080/",
     "height": 35
    },
    "colab_type": "code",
    "id": "wD4od-onI-3e",
    "outputId": "5beb4bf0-042c-4eb1-d7ae-caabcd224c9c"
   },
   "outputs": [
    {
     "data": {
      "text/plain": [
       "{'1', '2', '3', '4', '5', '6', '7+'}"
      ]
     },
     "execution_count": 30,
     "metadata": {},
     "output_type": "execute_result"
    }
   ],
   "source": [
    "# Minimizing the values for the accommodates column\n",
    "# We will make them objects from 1-6 and then 7+\n",
    "\n",
    "accommodate = []\n",
    "for int in Berlin_subset['accommodates']:\n",
    "    if int==1:\n",
    "        accommodate.append('1')\n",
    "    elif int==2:\n",
    "        accommodate.append('2')\n",
    "    elif int==3:\n",
    "        accommodate.append('3')\n",
    "    elif int==4:\n",
    "        accommodate.append('4')\n",
    "    elif int==5:\n",
    "        accommodate.append('5')\n",
    "    elif int==6:\n",
    "        accommodate.append('6')\n",
    "    elif int>=7:\n",
    "        accommodate.append('7+')\n",
    "    else:\n",
    "        accommodate.append('')\n",
    "set(accommodate)"
   ]
  },
  {
   "cell_type": "code",
   "execution_count": 31,
   "metadata": {
    "colab": {
     "base_uri": "https://localhost:8080/",
     "height": 121
    },
    "colab_type": "code",
    "id": "RtHBEzDbI-3l",
    "outputId": "4e392a49-f84a-4ac6-ee5c-fb0ea38dcb94"
   },
   "outputs": [],
   "source": [
    "Berlin_subset['can_accommodate'] = np.array(accommodate)"
   ]
  },
  {
   "cell_type": "code",
   "execution_count": 32,
   "metadata": {
    "colab": {
     "base_uri": "https://localhost:8080/",
     "height": 35
    },
    "colab_type": "code",
    "id": "mq5Np0tNI-3o",
    "outputId": "58df0504-c053-4f72-f4e3-5fc59ca1d8bb"
   },
   "outputs": [
    {
     "data": {
      "text/plain": [
       "{'1', '2+'}"
      ]
     },
     "execution_count": 32,
     "metadata": {},
     "output_type": "execute_result"
    }
   ],
   "source": [
    "bedrooms = []\n",
    "for bed in Berlin_subset['bedrooms']:\n",
    "    if bed==1.0:\n",
    "        bedrooms.append('1')\n",
    "    else:\n",
    "        bedrooms.append('2+')\n",
    "set(bedrooms)"
   ]
  },
  {
   "cell_type": "code",
   "execution_count": 33,
   "metadata": {
    "colab": {
     "base_uri": "https://localhost:8080/",
     "height": 121
    },
    "colab_type": "code",
    "id": "Xty0gVezI-3r",
    "outputId": "4d75d6a5-a2bb-479a-fd80-18181b2c22a3"
   },
   "outputs": [],
   "source": [
    "Berlin_subset['n_bedrooms'] = np.array(bedrooms)"
   ]
  },
  {
   "cell_type": "code",
   "execution_count": 34,
   "metadata": {
    "colab": {
     "base_uri": "https://localhost:8080/",
     "height": 35
    },
    "colab_type": "code",
    "id": "WVMEGMfrI-3u",
    "outputId": "e53460d0-6a3f-4ebf-f00d-87d3e87d6734"
   },
   "outputs": [
    {
     "data": {
      "text/plain": [
       "{'1', '2+'}"
      ]
     },
     "execution_count": 34,
     "metadata": {},
     "output_type": "execute_result"
    }
   ],
   "source": [
    "bathrooms = []\n",
    "for bath in Berlin_subset['bathrooms']:\n",
    "    if bath==1.0:\n",
    "        bathrooms.append('1')\n",
    "    else:\n",
    "        bathrooms.append('2+')\n",
    "set(bathrooms)"
   ]
  },
  {
   "cell_type": "code",
   "execution_count": 35,
   "metadata": {
    "colab": {
     "base_uri": "https://localhost:8080/",
     "height": 121
    },
    "colab_type": "code",
    "id": "eCdAtQHfI-3x",
    "outputId": "844d2b82-3265-4140-d19b-1b79262ae1bb"
   },
   "outputs": [],
   "source": [
    "Berlin_subset['n_bathrooms'] = np.array(bathrooms)"
   ]
  },
  {
   "cell_type": "code",
   "execution_count": 36,
   "metadata": {
    "colab": {
     "base_uri": "https://localhost:8080/",
     "height": 35
    },
    "colab_type": "code",
    "id": "9_LR1D2JI-30",
    "outputId": "1c9b338e-b3a9-465f-a6c5-506daf0721ab"
   },
   "outputs": [
    {
     "data": {
      "text/plain": [
       "{'1', '2+'}"
      ]
     },
     "execution_count": 36,
     "metadata": {},
     "output_type": "execute_result"
    }
   ],
   "source": [
    "beds = []\n",
    "for bed in Berlin_subset['beds']:\n",
    "    if bed==1.0:\n",
    "        beds.append('1')\n",
    "    else:\n",
    "        beds.append('2+')\n",
    "set(beds)"
   ]
  },
  {
   "cell_type": "code",
   "execution_count": 37,
   "metadata": {
    "colab": {
     "base_uri": "https://localhost:8080/",
     "height": 121
    },
    "colab_type": "code",
    "id": "D-BZUxb4I-33",
    "outputId": "1617556e-751c-4ad4-cb21-fa1ead853026"
   },
   "outputs": [],
   "source": [
    "Berlin_subset['n_beds'] = np.array(beds)"
   ]
  },
  {
   "cell_type": "code",
   "execution_count": 38,
   "metadata": {
    "colab": {},
    "colab_type": "code",
    "id": "ZO8GdBJTI-36"
   },
   "outputs": [],
   "source": [
    "def to_nbool(array):\n",
    "    for i in array:\n",
    "        if i=='t':\n",
    "            return 1\n",
    "        else:\n",
    "            return 0"
   ]
  },
  {
   "cell_type": "code",
   "execution_count": 39,
   "metadata": {
    "colab": {
     "base_uri": "https://localhost:8080/",
     "height": 121
    },
    "colab_type": "code",
    "id": "FEe6nJFtI-38",
    "outputId": "5391ca52-f8bc-4ddb-d8f9-e7e714d2a3f6"
   },
   "outputs": [],
   "source": [
    "Berlin_subset['host_identity_verified'] = Berlin_subset['host_identity_verified'].dropna().apply(to_nbool)"
   ]
  },
  {
   "cell_type": "code",
   "execution_count": 40,
   "metadata": {
    "colab": {
     "base_uri": "https://localhost:8080/",
     "height": 121
    },
    "colab_type": "code",
    "id": "jeZHJ2arI-3_",
    "outputId": "bf4de6dd-c7f5-4cef-a8a3-d3b7170b4707"
   },
   "outputs": [],
   "source": [
    "Berlin_subset['instant_bookable'] = Berlin_subset['instant_bookable'].dropna().apply(to_nbool)"
   ]
  },
  {
   "cell_type": "code",
   "execution_count": 41,
   "metadata": {
    "colab": {
     "base_uri": "https://localhost:8080/",
     "height": 121
    },
    "colab_type": "code",
    "id": "l-Kcuj0EI-4C",
    "outputId": "f565019a-8369-4811-84d3-9d0633e5d965"
   },
   "outputs": [],
   "source": [
    "Berlin_subset['review_scores_value'] = Berlin_subset['review_scores_value'].replace(np.NaN, 0)"
   ]
  },
  {
   "cell_type": "code",
   "execution_count": 42,
   "metadata": {
    "colab": {
     "base_uri": "https://localhost:8080/",
     "height": 35
    },
    "colab_type": "code",
    "id": "I3Kp1--AI-4F",
    "outputId": "c2ab6763-a175-4c11-dd61-961e5d6441e6"
   },
   "outputs": [
    {
     "data": {
      "text/plain": [
       "{0.0, 7.0, 8.0, 9.0, 10.0}"
      ]
     },
     "execution_count": 42,
     "metadata": {},
     "output_type": "execute_result"
    }
   ],
   "source": [
    "scores = []\n",
    "for rating in Berlin_subset['review_scores_value']:\n",
    "    if rating>=7.0:\n",
    "        scores.append(rating)\n",
    "    else:\n",
    "        scores.append(0.0)\n",
    "set(scores)"
   ]
  },
  {
   "cell_type": "code",
   "execution_count": 43,
   "metadata": {
    "colab": {
     "base_uri": "https://localhost:8080/",
     "height": 121
    },
    "colab_type": "code",
    "id": "pIkZmXVdI-4I",
    "outputId": "8c07b8b9-5901-4d64-89d9-0617000856b4"
   },
   "outputs": [],
   "source": [
    "Berlin_subset['review_score'] = scores"
   ]
  },
  {
   "cell_type": "code",
   "execution_count": 44,
   "metadata": {
    "colab": {},
    "colab_type": "code",
    "id": "Z1ODuJ56I-4L"
   },
   "outputs": [],
   "source": [
    "Berlin = Berlin_subset.drop(columns=['review_scores_value'])"
   ]
  },
  {
   "cell_type": "code",
   "execution_count": 45,
   "metadata": {
    "colab": {
     "base_uri": "https://localhost:8080/",
     "height": 35
    },
    "colab_type": "code",
    "id": "6tMFTWcMI-4N",
    "outputId": "beb3610d-aa4c-49a9-a839-bd55c6835f19"
   },
   "outputs": [
    {
     "data": {
      "text/plain": [
       "(22552, 17)"
      ]
     },
     "execution_count": 45,
     "metadata": {},
     "output_type": "execute_result"
    }
   ],
   "source": [
    "Berlin.shape"
   ]
  },
  {
   "cell_type": "code",
   "execution_count": 46,
   "metadata": {
    "colab": {
     "base_uri": "https://localhost:8080/",
     "height": 305
    },
    "colab_type": "code",
    "id": "vYoWIuPfI-4R",
    "outputId": "c2cb608d-779e-43e2-92fc-fbe641118fca"
   },
   "outputs": [
    {
     "data": {
      "text/html": [
       "<div>\n",
       "<style scoped>\n",
       "    .dataframe tbody tr th:only-of-type {\n",
       "        vertical-align: middle;\n",
       "    }\n",
       "\n",
       "    .dataframe tbody tr th {\n",
       "        vertical-align: top;\n",
       "    }\n",
       "\n",
       "    .dataframe thead th {\n",
       "        text-align: right;\n",
       "    }\n",
       "</style>\n",
       "<table border=\"1\" class=\"dataframe\">\n",
       "  <thead>\n",
       "    <tr style=\"text-align: right;\">\n",
       "      <th></th>\n",
       "      <th>property_type</th>\n",
       "      <th>room_type</th>\n",
       "      <th>accommodates</th>\n",
       "      <th>bathrooms</th>\n",
       "      <th>bedrooms</th>\n",
       "      <th>beds</th>\n",
       "      <th>price</th>\n",
       "      <th>number_of_reviews</th>\n",
       "      <th>instant_bookable</th>\n",
       "      <th>cancellation_policy</th>\n",
       "      <th>neighbourhood</th>\n",
       "      <th>host_identity_verified</th>\n",
       "      <th>can_accommodate</th>\n",
       "      <th>n_bedrooms</th>\n",
       "      <th>n_bathrooms</th>\n",
       "      <th>n_beds</th>\n",
       "      <th>review_score</th>\n",
       "    </tr>\n",
       "  </thead>\n",
       "  <tbody>\n",
       "    <tr>\n",
       "      <th>0</th>\n",
       "      <td>Guesthouse</td>\n",
       "      <td>Entire home/apt</td>\n",
       "      <td>3</td>\n",
       "      <td>1.0</td>\n",
       "      <td>1.0</td>\n",
       "      <td>2.0</td>\n",
       "      <td>60</td>\n",
       "      <td>118</td>\n",
       "      <td>0</td>\n",
       "      <td>strict_14_with_grace_period</td>\n",
       "      <td>Mitte</td>\n",
       "      <td>1.0</td>\n",
       "      <td>3</td>\n",
       "      <td>1</td>\n",
       "      <td>1</td>\n",
       "      <td>2+</td>\n",
       "      <td>9.0</td>\n",
       "    </tr>\n",
       "    <tr>\n",
       "      <th>1</th>\n",
       "      <td>Apartment</td>\n",
       "      <td>Private room</td>\n",
       "      <td>2</td>\n",
       "      <td>1.0</td>\n",
       "      <td>1.0</td>\n",
       "      <td>1.0</td>\n",
       "      <td>17</td>\n",
       "      <td>6</td>\n",
       "      <td>0</td>\n",
       "      <td>flexible</td>\n",
       "      <td>NaN</td>\n",
       "      <td>1.0</td>\n",
       "      <td>2</td>\n",
       "      <td>1</td>\n",
       "      <td>1</td>\n",
       "      <td>1</td>\n",
       "      <td>10.0</td>\n",
       "    </tr>\n",
       "    <tr>\n",
       "      <th>2</th>\n",
       "      <td>Apartment</td>\n",
       "      <td>Entire home/apt</td>\n",
       "      <td>4</td>\n",
       "      <td>1.0</td>\n",
       "      <td>1.0</td>\n",
       "      <td>2.0</td>\n",
       "      <td>90</td>\n",
       "      <td>143</td>\n",
       "      <td>1</td>\n",
       "      <td>strict_14_with_grace_period</td>\n",
       "      <td>Prenzlauer Berg</td>\n",
       "      <td>1.0</td>\n",
       "      <td>4</td>\n",
       "      <td>1</td>\n",
       "      <td>1</td>\n",
       "      <td>2+</td>\n",
       "      <td>9.0</td>\n",
       "    </tr>\n",
       "    <tr>\n",
       "      <th>3</th>\n",
       "      <td>Apartment</td>\n",
       "      <td>Private room</td>\n",
       "      <td>2</td>\n",
       "      <td>1.0</td>\n",
       "      <td>1.0</td>\n",
       "      <td>1.0</td>\n",
       "      <td>26</td>\n",
       "      <td>25</td>\n",
       "      <td>0</td>\n",
       "      <td>strict_14_with_grace_period</td>\n",
       "      <td>Schöneberg</td>\n",
       "      <td>1.0</td>\n",
       "      <td>2</td>\n",
       "      <td>1</td>\n",
       "      <td>1</td>\n",
       "      <td>1</td>\n",
       "      <td>9.0</td>\n",
       "    </tr>\n",
       "    <tr>\n",
       "      <th>4</th>\n",
       "      <td>Apartment</td>\n",
       "      <td>Private room</td>\n",
       "      <td>2</td>\n",
       "      <td>1.0</td>\n",
       "      <td>1.0</td>\n",
       "      <td>2.0</td>\n",
       "      <td>42</td>\n",
       "      <td>197</td>\n",
       "      <td>0</td>\n",
       "      <td>moderate</td>\n",
       "      <td>Prenzlauer Berg</td>\n",
       "      <td>1.0</td>\n",
       "      <td>2</td>\n",
       "      <td>1</td>\n",
       "      <td>1</td>\n",
       "      <td>2+</td>\n",
       "      <td>9.0</td>\n",
       "    </tr>\n",
       "  </tbody>\n",
       "</table>\n",
       "</div>"
      ],
      "text/plain": [
       "  property_type        room_type  accommodates  bathrooms  bedrooms  beds  \\\n",
       "0    Guesthouse  Entire home/apt             3        1.0       1.0   2.0   \n",
       "1     Apartment     Private room             2        1.0       1.0   1.0   \n",
       "2     Apartment  Entire home/apt             4        1.0       1.0   2.0   \n",
       "3     Apartment     Private room             2        1.0       1.0   1.0   \n",
       "4     Apartment     Private room             2        1.0       1.0   2.0   \n",
       "\n",
       "   price  number_of_reviews  instant_bookable          cancellation_policy  \\\n",
       "0     60                118                 0  strict_14_with_grace_period   \n",
       "1     17                  6                 0                     flexible   \n",
       "2     90                143                 1  strict_14_with_grace_period   \n",
       "3     26                 25                 0  strict_14_with_grace_period   \n",
       "4     42                197                 0                     moderate   \n",
       "\n",
       "     neighbourhood  host_identity_verified can_accommodate n_bedrooms  \\\n",
       "0            Mitte                     1.0               3          1   \n",
       "1              NaN                     1.0               2          1   \n",
       "2  Prenzlauer Berg                     1.0               4          1   \n",
       "3       Schöneberg                     1.0               2          1   \n",
       "4  Prenzlauer Berg                     1.0               2          1   \n",
       "\n",
       "  n_bathrooms n_beds  review_score  \n",
       "0           1     2+           9.0  \n",
       "1           1      1          10.0  \n",
       "2           1     2+           9.0  \n",
       "3           1      1           9.0  \n",
       "4           1     2+           9.0  "
      ]
     },
     "execution_count": 46,
     "metadata": {},
     "output_type": "execute_result"
    }
   ],
   "source": [
    "Berlin.head()"
   ]
  },
  {
   "cell_type": "code",
   "execution_count": 47,
   "metadata": {},
   "outputs": [],
   "source": [
    "# Instead of reassigning these values to 'cancellation_policy' we will keep the original just in case we need it back\n",
    "\n",
    "Berlin['cancel_policy'] = Berlin['cancellation_policy'].replace(('super_strict_30', 'super_strict_60', 'strict_14_with_grace_period'),'strict')"
   ]
  },
  {
   "cell_type": "code",
   "execution_count": 48,
   "metadata": {
    "colab": {
     "base_uri": "https://localhost:8080/",
     "height": 35
    },
    "colab_type": "code",
    "id": "c3g74IFVa0G7",
    "outputId": "8f1733b7-44d7-4b7a-c418-f944f48c4c60"
   },
   "outputs": [
    {
     "data": {
      "text/plain": [
       "18"
      ]
     },
     "execution_count": 48,
     "metadata": {},
     "output_type": "execute_result"
    }
   ],
   "source": [
    "len(Berlin.columns)"
   ]
  },
  {
   "cell_type": "code",
   "execution_count": 49,
   "metadata": {
    "colab": {
     "base_uri": "https://localhost:8080/",
     "height": 259
    },
    "colab_type": "code",
    "id": "ChDrWEX_ctUL",
    "outputId": "4bff0930-62e4-4721-d6a8-fb70aab0271f"
   },
   "outputs": [
    {
     "data": {
      "text/plain": [
       "property_type                0\n",
       "room_type                    0\n",
       "accommodates                 0\n",
       "bathrooms                   32\n",
       "bedrooms                    18\n",
       "beds                        40\n",
       "price                        0\n",
       "number_of_reviews            0\n",
       "instant_bookable             0\n",
       "cancellation_policy          0\n",
       "neighbourhood             1131\n",
       "host_identity_verified      26\n",
       "can_accommodate              0\n",
       "n_bedrooms                   0\n",
       "n_bathrooms                  0\n",
       "n_beds                       0\n",
       "review_score                 0\n",
       "cancel_policy                0\n",
       "dtype: int64"
      ]
     },
     "execution_count": 49,
     "metadata": {},
     "output_type": "execute_result"
    }
   ],
   "source": [
    "Berlin.isnull().sum()"
   ]
  },
  {
   "cell_type": "code",
   "execution_count": 50,
   "metadata": {},
   "outputs": [],
   "source": [
    "Berlin['neighbourhood'] = Berlin['neighbourhood'].replace(np.NaN, 'TODO')"
   ]
  },
  {
   "cell_type": "code",
   "execution_count": 51,
   "metadata": {},
   "outputs": [
    {
     "data": {
      "text/plain": [
       "Neukölln                3209\n",
       "Prenzlauer Berg         2768\n",
       "Kreuzberg               2661\n",
       "Friedrichshain          2526\n",
       "Mitte                   1943\n",
       "Wedding                 1417\n",
       "TODO                    1131\n",
       "Schöneberg              1065\n",
       "Moabit                   778\n",
       "Charlottenburg           767\n",
       "Wilmersdorf              483\n",
       "Pankow                   281\n",
       "Tempelhof                254\n",
       "Rummelsburg              248\n",
       "Weißensee                195\n",
       "Lichtenberg              174\n",
       "Tiergarten               163\n",
       "Alt-Treptow              156\n",
       "Steglitz                 153\n",
       "Reinickendorf            139\n",
       "Westend                  117\n",
       "Friedenau                 96\n",
       "Lichterfelde              92\n",
       "Zehlendorf                82\n",
       "Baumschulenweg            82\n",
       "Friedrichsfelde           68\n",
       "Britz                     61\n",
       "Halensee                  60\n",
       "Niederschönhausen         59\n",
       "Fennpfuhl                 56\n",
       "Potsdamer Platz           53\n",
       "Karlshorst                52\n",
       "Plänterwald               52\n",
       "Köpenick                  51\n",
       "Alt-Hohenschönhausen      50\n",
       "Hansaviertel              49\n",
       "Oberschöneweide           48\n",
       "Mariendorf                42\n",
       "Marzahn                   41\n",
       "Grunewald                 41\n",
       "Spandau                   33\n",
       "Rudow                     31\n",
       "Biesdorf                  31\n",
       "Schmargendorf             30\n",
       "Mahlsdorf                 30\n",
       "Tegel                     28\n",
       "Lichtenrade               28\n",
       "Rahnsdorf                 27\n",
       "Adlershof                 25\n",
       "Wilhelmstadt              24\n",
       "Friedrichshagen           24\n",
       "Lankwitz                  24\n",
       "Johannisthal              23\n",
       "Französisch Buchholz      22\n",
       "Altglienicke              20\n",
       "Dahlem                    19\n",
       "Wittenau                  19\n",
       "Hellersdorf               19\n",
       "Nikolassee                19\n",
       "Wannsee                   18\n",
       "Niederschöneweide         18\n",
       "Kaulsdorf                 17\n",
       "Schmöckwitz               17\n",
       "Kladow                    16\n",
       "Charlottenburg-Nord       14\n",
       "Buckow                    14\n",
       "Hakenfelde                13\n",
       "Karow                     12\n",
       "Frohnau                   12\n",
       "Gropiusstadt              12\n",
       "Grünau                    11\n",
       "Hermsdorf                 11\n",
       "Heiligensee               11\n",
       "Staaken                   10\n",
       "Märkisches Viertel         9\n",
       "Buch                       9\n",
       "Heinersdorf                8\n",
       "Marienfelde                8\n",
       "Siemensstadt               8\n",
       "Blankenburg                7\n",
       "Neu-Hohenschönhausen       7\n",
       "Waidmannslust              6\n",
       "Falkenhagener Feld         6\n",
       "Bohnsdorf                  6\n",
       "Gatow                      6\n",
       "Wilhelmsruh                6\n",
       "Müggelheim                 5\n",
       "Rosenthal                  5\n",
       "Konradshöhe                4\n",
       "Falkenberg                 3\n",
       "Haselhorst                 3\n",
       "Lübars                     1\n",
       "Name: neighbourhood, dtype: int64"
      ]
     },
     "execution_count": 51,
     "metadata": {},
     "output_type": "execute_result"
    }
   ],
   "source": [
    "Berlin['neighbourhood'].value_counts()"
   ]
  },
  {
   "cell_type": "code",
   "execution_count": 53,
   "metadata": {},
   "outputs": [
    {
     "data": {
      "text/plain": [
       "{'Charlottenburg-Wilmersdorf',\n",
       " 'Friedrichshain-Kreuzberg',\n",
       " 'Lichtenberg',\n",
       " 'Marzahn-Hellersdorf',\n",
       " 'Mitte',\n",
       " 'Neukölln',\n",
       " 'Pankow',\n",
       " 'Reinickendorf',\n",
       " 'Spandau',\n",
       " 'Steglitz-Zehlendorf',\n",
       " 'TODO',\n",
       " 'Tempelhof-Schöneberg',\n",
       " 'Treptow-Köpernick'}"
      ]
     },
     "execution_count": 53,
     "metadata": {},
     "output_type": "execute_result"
    }
   ],
   "source": [
    "# Something we could do is split these neighbourhoods into North, South, East, and West Berlin.\n",
    "# There are also 12 boroughs in Berlin that could be used.\n",
    "# All in the name of Data Science........\n",
    "\n",
    "boroughs = []\n",
    "for boro in Berlin['neighbourhood']:\n",
    "    \n",
    "    Charlot = ['Charlottenburg-Nord', 'Schmargendorf', 'Grunewald', 'Halensee', 'Westend', 'Wilmersdorf', 'Charlottenburg']\n",
    "    Fried = ['Kreuzberg', 'Friedrichshain']\n",
    "    Licht = ['Falkenberg', 'Neu-Hohenschönhausen', 'Alt-Hohenschönhausen', 'Karlshorst', 'Fennpfuhl', 'Friedrichsfelde',\n",
    "             'Lichtenberg', 'Rummelsburg']\n",
    "    Marzahn = ['Kaulsdorf', 'Hellersdorf', 'Mahlsdorf', 'Biesdorf', 'Marzahn']\n",
    "    Mitte = ['Hansaviertel', 'Potsdamer Platz', 'Tiergarten', 'Moabit', 'Wedding', 'Mitte']\n",
    "    Neukolln = ['Gropuisstadt', 'Buckow', 'Rudow', 'Britz', 'Neukölln']\n",
    "    Pankow = ['Rosenthal', 'Wilhelmsruh', 'Blankenburg', 'Heinersdorf', 'Buch', 'Karow', 'Französisch Buchholz',\n",
    "              'Niederschönhausen', 'Weißensee', 'Pankow', 'Prenzlauer Berg']\n",
    "    Reinick = ['Lübars', 'Konradshöhe', 'Waidmannslust', 'Märkisches Viertel', 'Heiligesee', 'Hermsdorf', 'Frohnau',\n",
    "               'Wittenau', 'Tegel', 'Reinickendorf']\n",
    "    Spandau = ['Haselhorst', 'Gatow', 'Falkenhagener', 'Siemensstadt', 'Staaken', 'Hakenfelde', 'Kladow',\n",
    "               'Wilhelmstadt', 'Spandau']\n",
    "    Steglitz = ['Wansee', 'Dahlem', 'Nikolassee', 'Lankwitz', 'Zehlendorf', 'Lichterfelde', 'Steglitz']\n",
    "    Tempelhof = ['Marienfelde', 'Lichtenrade', 'Mariendorf', 'Friedenau', 'Tempelhof', 'Schöneberg']\n",
    "    Treptow = ['Müggelheim', 'Bohnsdorf', 'Grünau', 'Schmökewite', 'Niederschöneweide', 'Altglienicke',\n",
    "               'Johannesthal', 'Friedrichshagen', 'Adlershof', 'Rahnsdorf', 'Oberschöneweide',\n",
    "               'Köpenick', 'Plänterwald', 'Baumschulenweg', 'Alt-Treptow']\n",
    "    \n",
    "    if boro in Charlot:\n",
    "        boroughs.append('Charlottenburg-Wilmersdorf')\n",
    "    elif boro in Fried:\n",
    "        boroughs.append('Friedrichshain-Kreuzberg')\n",
    "    elif boro in Licht:\n",
    "        boroughs.append('Lichtenberg')\n",
    "    elif boro in Marzahn:\n",
    "        boroughs.append('Marzahn-Hellersdorf')\n",
    "    elif boro in Mitte:\n",
    "        boroughs.append('Mitte')\n",
    "    elif boro in Neukolln:\n",
    "        boroughs.append('Neukölln')\n",
    "    elif boro in Pankow:\n",
    "        boroughs.append('Pankow')\n",
    "    elif boro in Reinick:\n",
    "        boroughs.append('Reinickendorf')\n",
    "    elif boro in Spandau:\n",
    "        boroughs.append('Spandau')\n",
    "    elif boro in Steglitz:\n",
    "        boroughs.append('Steglitz-Zehlendorf')\n",
    "    elif boro in Tempelhof:\n",
    "        boroughs.append('Tempelhof-Schöneberg')\n",
    "    elif boro in Treptow:\n",
    "        boroughs.append('Treptow-Köpernick')\n",
    "    else:\n",
    "        boroughs.append('TODO')\n",
    "set(boroughs)"
   ]
  },
  {
   "cell_type": "code",
   "execution_count": 54,
   "metadata": {},
   "outputs": [],
   "source": [
    "Berlin['boroughs'] = boroughs"
   ]
  },
  {
   "cell_type": "code",
   "execution_count": 55,
   "metadata": {},
   "outputs": [],
   "source": [
    "Berlin['boroughs'] = Berlin['boroughs'].replace('TODO', np.NaN)"
   ]
  },
  {
   "cell_type": "code",
   "execution_count": 56,
   "metadata": {},
   "outputs": [
    {
     "data": {
      "text/plain": [
       "dtype('float64')"
      ]
     },
     "execution_count": 56,
     "metadata": {},
     "output_type": "execute_result"
    }
   ],
   "source": [
    "Berlin['host_identity_verified'].dtypes"
   ]
  },
  {
   "cell_type": "code",
   "execution_count": 57,
   "metadata": {},
   "outputs": [],
   "source": [
    "# For 'host_identity_verified', it would make sense to fill the NA values with 0 (FALSE)\n",
    "# We will also convert the column from float to integers(int64)\n",
    "\n",
    "Berlin['host_identity_verified'] = Berlin['host_identity_verified'].replace(np.NaN, 0).astype('int64')"
   ]
  },
  {
   "cell_type": "code",
   "execution_count": 58,
   "metadata": {},
   "outputs": [],
   "source": [
    "# Saving this column for backup\n",
    "\n",
    "Berlin_cancel = Berlin['cancellation_policy']"
   ]
  },
  {
   "cell_type": "code",
   "execution_count": 59,
   "metadata": {},
   "outputs": [
    {
     "data": {
      "text/plain": [
       "Index(['property_type', 'room_type', 'accommodates', 'bathrooms', 'bedrooms',\n",
       "       'beds', 'price', 'number_of_reviews', 'instant_bookable',\n",
       "       'cancellation_policy', 'neighbourhood', 'host_identity_verified',\n",
       "       'can_accommodate', 'n_bedrooms', 'n_bathrooms', 'n_beds',\n",
       "       'review_score', 'cancel_policy', 'boroughs'],\n",
       "      dtype='object')"
      ]
     },
     "execution_count": 59,
     "metadata": {},
     "output_type": "execute_result"
    }
   ],
   "source": [
    "Berlin.columns"
   ]
  },
  {
   "cell_type": "code",
   "execution_count": 60,
   "metadata": {},
   "outputs": [],
   "source": [
    "# Reassigning the Berlin dataframe to the columns we are checking out\n",
    "#  'neighbourhood',\n",
    "\n",
    "Berlin = Berlin[['property_type', 'room_type', 'price', 'cancellation_policy',\n",
    "                 'instant_bookable', 'neighbourhood', 'host_identity_verified',\n",
    "                 'accommodates', 'bedrooms', 'bathrooms', 'beds']]"
   ]
  },
  {
   "cell_type": "code",
   "execution_count": 61,
   "metadata": {},
   "outputs": [
    {
     "data": {
      "text/html": [
       "<div>\n",
       "<style scoped>\n",
       "    .dataframe tbody tr th:only-of-type {\n",
       "        vertical-align: middle;\n",
       "    }\n",
       "\n",
       "    .dataframe tbody tr th {\n",
       "        vertical-align: top;\n",
       "    }\n",
       "\n",
       "    .dataframe thead th {\n",
       "        text-align: right;\n",
       "    }\n",
       "</style>\n",
       "<table border=\"1\" class=\"dataframe\">\n",
       "  <thead>\n",
       "    <tr style=\"text-align: right;\">\n",
       "      <th></th>\n",
       "      <th>property_type</th>\n",
       "      <th>room_type</th>\n",
       "      <th>price</th>\n",
       "      <th>cancellation_policy</th>\n",
       "      <th>instant_bookable</th>\n",
       "      <th>neighbourhood</th>\n",
       "      <th>host_identity_verified</th>\n",
       "      <th>accommodates</th>\n",
       "      <th>bedrooms</th>\n",
       "      <th>bathrooms</th>\n",
       "      <th>beds</th>\n",
       "    </tr>\n",
       "  </thead>\n",
       "  <tbody>\n",
       "    <tr>\n",
       "      <th>0</th>\n",
       "      <td>Guesthouse</td>\n",
       "      <td>Entire home/apt</td>\n",
       "      <td>60</td>\n",
       "      <td>strict_14_with_grace_period</td>\n",
       "      <td>0</td>\n",
       "      <td>Mitte</td>\n",
       "      <td>1</td>\n",
       "      <td>3</td>\n",
       "      <td>1.0</td>\n",
       "      <td>1.0</td>\n",
       "      <td>2.0</td>\n",
       "    </tr>\n",
       "    <tr>\n",
       "      <th>1</th>\n",
       "      <td>Apartment</td>\n",
       "      <td>Private room</td>\n",
       "      <td>17</td>\n",
       "      <td>flexible</td>\n",
       "      <td>0</td>\n",
       "      <td>TODO</td>\n",
       "      <td>1</td>\n",
       "      <td>2</td>\n",
       "      <td>1.0</td>\n",
       "      <td>1.0</td>\n",
       "      <td>1.0</td>\n",
       "    </tr>\n",
       "    <tr>\n",
       "      <th>2</th>\n",
       "      <td>Apartment</td>\n",
       "      <td>Entire home/apt</td>\n",
       "      <td>90</td>\n",
       "      <td>strict_14_with_grace_period</td>\n",
       "      <td>1</td>\n",
       "      <td>Prenzlauer Berg</td>\n",
       "      <td>1</td>\n",
       "      <td>4</td>\n",
       "      <td>1.0</td>\n",
       "      <td>1.0</td>\n",
       "      <td>2.0</td>\n",
       "    </tr>\n",
       "    <tr>\n",
       "      <th>3</th>\n",
       "      <td>Apartment</td>\n",
       "      <td>Private room</td>\n",
       "      <td>26</td>\n",
       "      <td>strict_14_with_grace_period</td>\n",
       "      <td>0</td>\n",
       "      <td>Schöneberg</td>\n",
       "      <td>1</td>\n",
       "      <td>2</td>\n",
       "      <td>1.0</td>\n",
       "      <td>1.0</td>\n",
       "      <td>1.0</td>\n",
       "    </tr>\n",
       "    <tr>\n",
       "      <th>4</th>\n",
       "      <td>Apartment</td>\n",
       "      <td>Private room</td>\n",
       "      <td>42</td>\n",
       "      <td>moderate</td>\n",
       "      <td>0</td>\n",
       "      <td>Prenzlauer Berg</td>\n",
       "      <td>1</td>\n",
       "      <td>2</td>\n",
       "      <td>1.0</td>\n",
       "      <td>1.0</td>\n",
       "      <td>2.0</td>\n",
       "    </tr>\n",
       "  </tbody>\n",
       "</table>\n",
       "</div>"
      ],
      "text/plain": [
       "  property_type        room_type  price          cancellation_policy  \\\n",
       "0    Guesthouse  Entire home/apt     60  strict_14_with_grace_period   \n",
       "1     Apartment     Private room     17                     flexible   \n",
       "2     Apartment  Entire home/apt     90  strict_14_with_grace_period   \n",
       "3     Apartment     Private room     26  strict_14_with_grace_period   \n",
       "4     Apartment     Private room     42                     moderate   \n",
       "\n",
       "   instant_bookable    neighbourhood  host_identity_verified  accommodates  \\\n",
       "0                 0            Mitte                       1             3   \n",
       "1                 0             TODO                       1             2   \n",
       "2                 1  Prenzlauer Berg                       1             4   \n",
       "3                 0       Schöneberg                       1             2   \n",
       "4                 0  Prenzlauer Berg                       1             2   \n",
       "\n",
       "   bedrooms  bathrooms  beds  \n",
       "0       1.0        1.0   2.0  \n",
       "1       1.0        1.0   1.0  \n",
       "2       1.0        1.0   2.0  \n",
       "3       1.0        1.0   1.0  \n",
       "4       1.0        1.0   2.0  "
      ]
     },
     "execution_count": 61,
     "metadata": {},
     "output_type": "execute_result"
    }
   ],
   "source": [
    "Berlin.head()"
   ]
  },
  {
   "cell_type": "code",
   "execution_count": 62,
   "metadata": {},
   "outputs": [
    {
     "data": {
      "text/plain": [
       "property_type              0\n",
       "room_type                  0\n",
       "price                      0\n",
       "cancellation_policy        0\n",
       "instant_bookable           0\n",
       "neighbourhood              0\n",
       "host_identity_verified     0\n",
       "accommodates               0\n",
       "bedrooms                  18\n",
       "bathrooms                 32\n",
       "beds                      40\n",
       "dtype: int64"
      ]
     },
     "execution_count": 62,
     "metadata": {},
     "output_type": "execute_result"
    }
   ],
   "source": [
    "Berlin.isna().sum()"
   ]
  },
  {
   "cell_type": "code",
   "execution_count": 63,
   "metadata": {},
   "outputs": [
    {
     "data": {
      "text/plain": [
       "(22552, 11)"
      ]
     },
     "execution_count": 63,
     "metadata": {},
     "output_type": "execute_result"
    }
   ],
   "source": [
    "non_na = Berlin[Berlin[['bedrooms', 'bathrooms', 'beds']].notna()]\n",
    "non_na.shape"
   ]
  },
  {
   "cell_type": "code",
   "execution_count": 64,
   "metadata": {},
   "outputs": [
    {
     "data": {
      "text/html": [
       "<div>\n",
       "<style scoped>\n",
       "    .dataframe tbody tr th:only-of-type {\n",
       "        vertical-align: middle;\n",
       "    }\n",
       "\n",
       "    .dataframe tbody tr th {\n",
       "        vertical-align: top;\n",
       "    }\n",
       "\n",
       "    .dataframe thead th {\n",
       "        text-align: right;\n",
       "    }\n",
       "</style>\n",
       "<table border=\"1\" class=\"dataframe\">\n",
       "  <thead>\n",
       "    <tr style=\"text-align: right;\">\n",
       "      <th></th>\n",
       "      <th>property_type</th>\n",
       "      <th>room_type</th>\n",
       "      <th>price</th>\n",
       "      <th>cancellation_policy</th>\n",
       "      <th>instant_bookable</th>\n",
       "      <th>neighbourhood</th>\n",
       "      <th>host_identity_verified</th>\n",
       "      <th>accommodates</th>\n",
       "      <th>bedrooms</th>\n",
       "      <th>bathrooms</th>\n",
       "      <th>beds</th>\n",
       "    </tr>\n",
       "  </thead>\n",
       "  <tbody>\n",
       "    <tr>\n",
       "      <th>0</th>\n",
       "      <td>NaN</td>\n",
       "      <td>NaN</td>\n",
       "      <td>NaN</td>\n",
       "      <td>NaN</td>\n",
       "      <td>NaN</td>\n",
       "      <td>NaN</td>\n",
       "      <td>NaN</td>\n",
       "      <td>NaN</td>\n",
       "      <td>1.0</td>\n",
       "      <td>1.0</td>\n",
       "      <td>2.0</td>\n",
       "    </tr>\n",
       "    <tr>\n",
       "      <th>1</th>\n",
       "      <td>NaN</td>\n",
       "      <td>NaN</td>\n",
       "      <td>NaN</td>\n",
       "      <td>NaN</td>\n",
       "      <td>NaN</td>\n",
       "      <td>NaN</td>\n",
       "      <td>NaN</td>\n",
       "      <td>NaN</td>\n",
       "      <td>1.0</td>\n",
       "      <td>1.0</td>\n",
       "      <td>1.0</td>\n",
       "    </tr>\n",
       "    <tr>\n",
       "      <th>2</th>\n",
       "      <td>NaN</td>\n",
       "      <td>NaN</td>\n",
       "      <td>NaN</td>\n",
       "      <td>NaN</td>\n",
       "      <td>NaN</td>\n",
       "      <td>NaN</td>\n",
       "      <td>NaN</td>\n",
       "      <td>NaN</td>\n",
       "      <td>1.0</td>\n",
       "      <td>1.0</td>\n",
       "      <td>2.0</td>\n",
       "    </tr>\n",
       "    <tr>\n",
       "      <th>3</th>\n",
       "      <td>NaN</td>\n",
       "      <td>NaN</td>\n",
       "      <td>NaN</td>\n",
       "      <td>NaN</td>\n",
       "      <td>NaN</td>\n",
       "      <td>NaN</td>\n",
       "      <td>NaN</td>\n",
       "      <td>NaN</td>\n",
       "      <td>1.0</td>\n",
       "      <td>1.0</td>\n",
       "      <td>1.0</td>\n",
       "    </tr>\n",
       "    <tr>\n",
       "      <th>4</th>\n",
       "      <td>NaN</td>\n",
       "      <td>NaN</td>\n",
       "      <td>NaN</td>\n",
       "      <td>NaN</td>\n",
       "      <td>NaN</td>\n",
       "      <td>NaN</td>\n",
       "      <td>NaN</td>\n",
       "      <td>NaN</td>\n",
       "      <td>1.0</td>\n",
       "      <td>1.0</td>\n",
       "      <td>2.0</td>\n",
       "    </tr>\n",
       "  </tbody>\n",
       "</table>\n",
       "</div>"
      ],
      "text/plain": [
       "  property_type room_type  price cancellation_policy  instant_bookable  \\\n",
       "0           NaN       NaN    NaN                 NaN               NaN   \n",
       "1           NaN       NaN    NaN                 NaN               NaN   \n",
       "2           NaN       NaN    NaN                 NaN               NaN   \n",
       "3           NaN       NaN    NaN                 NaN               NaN   \n",
       "4           NaN       NaN    NaN                 NaN               NaN   \n",
       "\n",
       "  neighbourhood  host_identity_verified  accommodates  bedrooms  bathrooms  \\\n",
       "0           NaN                     NaN           NaN       1.0        1.0   \n",
       "1           NaN                     NaN           NaN       1.0        1.0   \n",
       "2           NaN                     NaN           NaN       1.0        1.0   \n",
       "3           NaN                     NaN           NaN       1.0        1.0   \n",
       "4           NaN                     NaN           NaN       1.0        1.0   \n",
       "\n",
       "   beds  \n",
       "0   2.0  \n",
       "1   1.0  \n",
       "2   2.0  \n",
       "3   1.0  \n",
       "4   2.0  "
      ]
     },
     "execution_count": 64,
     "metadata": {},
     "output_type": "execute_result"
    }
   ],
   "source": [
    "non_na.head()"
   ]
  },
  {
   "cell_type": "code",
   "execution_count": 65,
   "metadata": {},
   "outputs": [
    {
     "data": {
      "text/plain": [
       "Series([], Name: property_type, dtype: int64)"
      ]
     },
     "execution_count": 65,
     "metadata": {},
     "output_type": "execute_result"
    }
   ],
   "source": [
    "non_na['property_type'].value_counts()"
   ]
  },
  {
   "cell_type": "code",
   "execution_count": 66,
   "metadata": {},
   "outputs": [
    {
     "data": {
      "text/plain": [
       "{'Non-apartment'}"
      ]
     },
     "execution_count": 66,
     "metadata": {},
     "output_type": "execute_result"
    }
   ],
   "source": [
    "prop = []\n",
    "for prop_type in non_na['property_type']:\n",
    "    if prop_type=='Apartment' or prop_type=='Serviced apartment':\n",
    "        prop.append('Apartment')\n",
    "    else:\n",
    "        prop.append('Non-apartment')\n",
    "set(prop)"
   ]
  },
  {
   "cell_type": "code",
   "execution_count": 67,
   "metadata": {},
   "outputs": [],
   "source": [
    "non_na['Property_type'] = prop"
   ]
  },
  {
   "cell_type": "code",
   "execution_count": 68,
   "metadata": {},
   "outputs": [
    {
     "data": {
      "text/plain": [
       "Non-apartment    22552\n",
       "Name: Property_type, dtype: int64"
      ]
     },
     "execution_count": 68,
     "metadata": {},
     "output_type": "execute_result"
    }
   ],
   "source": [
    "non_na['Property_type'].value_counts()"
   ]
  },
  {
   "cell_type": "code",
   "execution_count": 69,
   "metadata": {},
   "outputs": [
    {
     "data": {
      "text/plain": [
       "Series([], Name: room_type, dtype: int64)"
      ]
     },
     "execution_count": 69,
     "metadata": {},
     "output_type": "execute_result"
    }
   ],
   "source": [
    "non_na['room_type'].value_counts()"
   ]
  },
  {
   "cell_type": "code",
   "execution_count": 70,
   "metadata": {},
   "outputs": [
    {
     "data": {
      "text/plain": [
       "Series([], Name: host_identity_verified, dtype: int64)"
      ]
     },
     "execution_count": 70,
     "metadata": {},
     "output_type": "execute_result"
    }
   ],
   "source": [
    "non_na['host_identity_verified'].value_counts()"
   ]
  },
  {
   "cell_type": "code",
   "execution_count": 71,
   "metadata": {},
   "outputs": [
    {
     "ename": "KeyError",
     "evalue": "'can_accommodate'",
     "output_type": "error",
     "traceback": [
      "\u001b[1;31m---------------------------------------------------------------------------\u001b[0m",
      "\u001b[1;31mKeyError\u001b[0m                                  Traceback (most recent call last)",
      "\u001b[1;32m~\\Anaconda3\\lib\\site-packages\\pandas\\core\\indexes\\base.py\u001b[0m in \u001b[0;36mget_loc\u001b[1;34m(self, key, method, tolerance)\u001b[0m\n\u001b[0;32m   2896\u001b[0m             \u001b[1;32mtry\u001b[0m\u001b[1;33m:\u001b[0m\u001b[1;33m\u001b[0m\u001b[1;33m\u001b[0m\u001b[0m\n\u001b[1;32m-> 2897\u001b[1;33m                 \u001b[1;32mreturn\u001b[0m \u001b[0mself\u001b[0m\u001b[1;33m.\u001b[0m\u001b[0m_engine\u001b[0m\u001b[1;33m.\u001b[0m\u001b[0mget_loc\u001b[0m\u001b[1;33m(\u001b[0m\u001b[0mkey\u001b[0m\u001b[1;33m)\u001b[0m\u001b[1;33m\u001b[0m\u001b[1;33m\u001b[0m\u001b[0m\n\u001b[0m\u001b[0;32m   2898\u001b[0m             \u001b[1;32mexcept\u001b[0m \u001b[0mKeyError\u001b[0m\u001b[1;33m:\u001b[0m\u001b[1;33m\u001b[0m\u001b[1;33m\u001b[0m\u001b[0m\n",
      "\u001b[1;32mpandas/_libs/index.pyx\u001b[0m in \u001b[0;36mpandas._libs.index.IndexEngine.get_loc\u001b[1;34m()\u001b[0m\n",
      "\u001b[1;32mpandas/_libs/index.pyx\u001b[0m in \u001b[0;36mpandas._libs.index.IndexEngine.get_loc\u001b[1;34m()\u001b[0m\n",
      "\u001b[1;32mpandas/_libs/hashtable_class_helper.pxi\u001b[0m in \u001b[0;36mpandas._libs.hashtable.PyObjectHashTable.get_item\u001b[1;34m()\u001b[0m\n",
      "\u001b[1;32mpandas/_libs/hashtable_class_helper.pxi\u001b[0m in \u001b[0;36mpandas._libs.hashtable.PyObjectHashTable.get_item\u001b[1;34m()\u001b[0m\n",
      "\u001b[1;31mKeyError\u001b[0m: 'can_accommodate'",
      "\nDuring handling of the above exception, another exception occurred:\n",
      "\u001b[1;31mKeyError\u001b[0m                                  Traceback (most recent call last)",
      "\u001b[1;32m<ipython-input-71-fefc00056f77>\u001b[0m in \u001b[0;36m<module>\u001b[1;34m\u001b[0m\n\u001b[1;32m----> 1\u001b[1;33m \u001b[0mnon_na\u001b[0m\u001b[1;33m[\u001b[0m\u001b[1;34m'can_accommodate'\u001b[0m\u001b[1;33m]\u001b[0m\u001b[1;33m.\u001b[0m\u001b[0mvalue_counts\u001b[0m\u001b[1;33m(\u001b[0m\u001b[1;33m)\u001b[0m\u001b[1;33m\u001b[0m\u001b[1;33m\u001b[0m\u001b[0m\n\u001b[0m",
      "\u001b[1;32m~\\Anaconda3\\lib\\site-packages\\pandas\\core\\frame.py\u001b[0m in \u001b[0;36m__getitem__\u001b[1;34m(self, key)\u001b[0m\n\u001b[0;32m   2993\u001b[0m             \u001b[1;32mif\u001b[0m \u001b[0mself\u001b[0m\u001b[1;33m.\u001b[0m\u001b[0mcolumns\u001b[0m\u001b[1;33m.\u001b[0m\u001b[0mnlevels\u001b[0m \u001b[1;33m>\u001b[0m \u001b[1;36m1\u001b[0m\u001b[1;33m:\u001b[0m\u001b[1;33m\u001b[0m\u001b[1;33m\u001b[0m\u001b[0m\n\u001b[0;32m   2994\u001b[0m                 \u001b[1;32mreturn\u001b[0m \u001b[0mself\u001b[0m\u001b[1;33m.\u001b[0m\u001b[0m_getitem_multilevel\u001b[0m\u001b[1;33m(\u001b[0m\u001b[0mkey\u001b[0m\u001b[1;33m)\u001b[0m\u001b[1;33m\u001b[0m\u001b[1;33m\u001b[0m\u001b[0m\n\u001b[1;32m-> 2995\u001b[1;33m             \u001b[0mindexer\u001b[0m \u001b[1;33m=\u001b[0m \u001b[0mself\u001b[0m\u001b[1;33m.\u001b[0m\u001b[0mcolumns\u001b[0m\u001b[1;33m.\u001b[0m\u001b[0mget_loc\u001b[0m\u001b[1;33m(\u001b[0m\u001b[0mkey\u001b[0m\u001b[1;33m)\u001b[0m\u001b[1;33m\u001b[0m\u001b[1;33m\u001b[0m\u001b[0m\n\u001b[0m\u001b[0;32m   2996\u001b[0m             \u001b[1;32mif\u001b[0m \u001b[0mis_integer\u001b[0m\u001b[1;33m(\u001b[0m\u001b[0mindexer\u001b[0m\u001b[1;33m)\u001b[0m\u001b[1;33m:\u001b[0m\u001b[1;33m\u001b[0m\u001b[1;33m\u001b[0m\u001b[0m\n\u001b[0;32m   2997\u001b[0m                 \u001b[0mindexer\u001b[0m \u001b[1;33m=\u001b[0m \u001b[1;33m[\u001b[0m\u001b[0mindexer\u001b[0m\u001b[1;33m]\u001b[0m\u001b[1;33m\u001b[0m\u001b[1;33m\u001b[0m\u001b[0m\n",
      "\u001b[1;32m~\\Anaconda3\\lib\\site-packages\\pandas\\core\\indexes\\base.py\u001b[0m in \u001b[0;36mget_loc\u001b[1;34m(self, key, method, tolerance)\u001b[0m\n\u001b[0;32m   2897\u001b[0m                 \u001b[1;32mreturn\u001b[0m \u001b[0mself\u001b[0m\u001b[1;33m.\u001b[0m\u001b[0m_engine\u001b[0m\u001b[1;33m.\u001b[0m\u001b[0mget_loc\u001b[0m\u001b[1;33m(\u001b[0m\u001b[0mkey\u001b[0m\u001b[1;33m)\u001b[0m\u001b[1;33m\u001b[0m\u001b[1;33m\u001b[0m\u001b[0m\n\u001b[0;32m   2898\u001b[0m             \u001b[1;32mexcept\u001b[0m \u001b[0mKeyError\u001b[0m\u001b[1;33m:\u001b[0m\u001b[1;33m\u001b[0m\u001b[1;33m\u001b[0m\u001b[0m\n\u001b[1;32m-> 2899\u001b[1;33m                 \u001b[1;32mreturn\u001b[0m \u001b[0mself\u001b[0m\u001b[1;33m.\u001b[0m\u001b[0m_engine\u001b[0m\u001b[1;33m.\u001b[0m\u001b[0mget_loc\u001b[0m\u001b[1;33m(\u001b[0m\u001b[0mself\u001b[0m\u001b[1;33m.\u001b[0m\u001b[0m_maybe_cast_indexer\u001b[0m\u001b[1;33m(\u001b[0m\u001b[0mkey\u001b[0m\u001b[1;33m)\u001b[0m\u001b[1;33m)\u001b[0m\u001b[1;33m\u001b[0m\u001b[1;33m\u001b[0m\u001b[0m\n\u001b[0m\u001b[0;32m   2900\u001b[0m         \u001b[0mindexer\u001b[0m \u001b[1;33m=\u001b[0m \u001b[0mself\u001b[0m\u001b[1;33m.\u001b[0m\u001b[0mget_indexer\u001b[0m\u001b[1;33m(\u001b[0m\u001b[1;33m[\u001b[0m\u001b[0mkey\u001b[0m\u001b[1;33m]\u001b[0m\u001b[1;33m,\u001b[0m \u001b[0mmethod\u001b[0m\u001b[1;33m=\u001b[0m\u001b[0mmethod\u001b[0m\u001b[1;33m,\u001b[0m \u001b[0mtolerance\u001b[0m\u001b[1;33m=\u001b[0m\u001b[0mtolerance\u001b[0m\u001b[1;33m)\u001b[0m\u001b[1;33m\u001b[0m\u001b[1;33m\u001b[0m\u001b[0m\n\u001b[0;32m   2901\u001b[0m         \u001b[1;32mif\u001b[0m \u001b[0mindexer\u001b[0m\u001b[1;33m.\u001b[0m\u001b[0mndim\u001b[0m \u001b[1;33m>\u001b[0m \u001b[1;36m1\u001b[0m \u001b[1;32mor\u001b[0m \u001b[0mindexer\u001b[0m\u001b[1;33m.\u001b[0m\u001b[0msize\u001b[0m \u001b[1;33m>\u001b[0m \u001b[1;36m1\u001b[0m\u001b[1;33m:\u001b[0m\u001b[1;33m\u001b[0m\u001b[1;33m\u001b[0m\u001b[0m\n",
      "\u001b[1;32mpandas/_libs/index.pyx\u001b[0m in \u001b[0;36mpandas._libs.index.IndexEngine.get_loc\u001b[1;34m()\u001b[0m\n",
      "\u001b[1;32mpandas/_libs/index.pyx\u001b[0m in \u001b[0;36mpandas._libs.index.IndexEngine.get_loc\u001b[1;34m()\u001b[0m\n",
      "\u001b[1;32mpandas/_libs/hashtable_class_helper.pxi\u001b[0m in \u001b[0;36mpandas._libs.hashtable.PyObjectHashTable.get_item\u001b[1;34m()\u001b[0m\n",
      "\u001b[1;32mpandas/_libs/hashtable_class_helper.pxi\u001b[0m in \u001b[0;36mpandas._libs.hashtable.PyObjectHashTable.get_item\u001b[1;34m()\u001b[0m\n",
      "\u001b[1;31mKeyError\u001b[0m: 'can_accommodate'"
     ]
    }
   ],
   "source": [
    "non_na['can_accommodate'].value_counts()"
   ]
  },
  {
   "cell_type": "code",
   "execution_count": null,
   "metadata": {},
   "outputs": [],
   "source": [
    "non_na['n_bedrooms'].value_counts()"
   ]
  },
  {
   "cell_type": "code",
   "execution_count": null,
   "metadata": {},
   "outputs": [],
   "source": [
    "non_na['n_bathrooms'].value_counts()"
   ]
  },
  {
   "cell_type": "code",
   "execution_count": null,
   "metadata": {},
   "outputs": [],
   "source": [
    "non_na['n_beds'].value_counts()"
   ]
  },
  {
   "cell_type": "code",
   "execution_count": null,
   "metadata": {},
   "outputs": [],
   "source": [
    "non_na['cancel_policy'].value_counts()"
   ]
  },
  {
   "cell_type": "code",
   "execution_count": null,
   "metadata": {},
   "outputs": [],
   "source": [
    "non_na['price'].value_counts()"
   ]
  },
  {
   "cell_type": "code",
   "execution_count": null,
   "metadata": {},
   "outputs": [],
   "source": [
    "non_na.shape"
   ]
  },
  {
   "cell_type": "code",
   "execution_count": null,
   "metadata": {},
   "outputs": [],
   "source": [
    "# There are 157 observations (of 19k) with a price above $300\n",
    "non_na[(non_na['price']>300)]['price']"
   ]
  },
  {
   "cell_type": "code",
   "execution_count": null,
   "metadata": {},
   "outputs": [],
   "source": [
    "non_na_new = non_na[non_na['price']<=300]\n",
    "non_na_new.shape"
   ]
  },
  {
   "cell_type": "code",
   "execution_count": null,
   "metadata": {},
   "outputs": [],
   "source": [
    "# Ofer work starting here (James' notes between two asterisks **)\n",
    "\n",
    "# Create Train/**Val/**Test **Incorporating random_state for reproducibility**\n",
    "# **If we have time, we may want to try different values for test_size**\n",
    "\n",
    "train, test = train_test_split(non_na_new, train_size=0.80, test_size=0.20, random_state=42)\n",
    "train, val = train_test_split(train, train_size=0.80, test_size=0.20, random_state=42)\n",
    "\n",
    "for df in train, val, test:\n",
    "    print(df.shape)"
   ]
  },
  {
   "cell_type": "code",
   "execution_count": null,
   "metadata": {},
   "outputs": [],
   "source": [
    "# **Splitting up features and target then, X_train, y_train, etc.**\n",
    "# 'neighbourhood',\n",
    "\n",
    "features = ['room_type', 'instant_bookable', 'boroughs',\n",
    "            'can_accommodate', 'n_bedrooms', 'n_bathrooms', 'n_beds',\n",
    "            'cancel_policy']\n",
    "target = 'price'\n",
    "\n",
    "X_train = train[features]\n",
    "y_train = train[target]\n",
    "X_val = val[features]\n",
    "y_val = val[target]\n",
    "X_test = test[features]\n",
    "y_test = test[target]"
   ]
  },
  {
   "cell_type": "code",
   "execution_count": null,
   "metadata": {},
   "outputs": [],
   "source": [
    "# **Taking a baseline using 0 features and the mean of the target('price') column**\n",
    "# How far off would we be if we used this average?\n",
    "\n",
    "# Arrange y target vectors - target already assigned in cell above\n",
    "y_train_mae = train[target]\n",
    "y_val_mae = val[target]\n",
    "y_test_mae = test[target]\n",
    "\n",
    "print(f'Mean Baseline (using 0 features) and Price mean of: {round(y_train_mae.mean())}')\n",
    "guess = round(y_train.mean()) # **so that the mean is an integer**\n",
    "\n",
    "# Train Error\n",
    "y_pred = [guess] * len(y_train_mae)\n",
    "mae = mean_absolute_error(y_train_mae, y_pred)\n",
    "print(f'Train Error for Berlin: ${mae:.2f}')\n",
    "\n",
    "# Validate Error\n",
    "y_pred = [guess] * len(y_val_mae)\n",
    "mae = mean_absolute_error(y_val_mae, y_pred)\n",
    "print(f'Train Error for Berlin: ${mae:.2f}')\n",
    "\n",
    "# Test Error\n",
    "y_pred = [guess] * len(y_test_mae)\n",
    "mae = mean_absolute_error(y_test_mae, y_pred)\n",
    "print(f'Test Error for Berlin: ${mae:.2f}')"
   ]
  },
  {
   "cell_type": "code",
   "execution_count": null,
   "metadata": {},
   "outputs": [],
   "source": [
    "# Encoding the categorical features using Ordinal Encoder which will start at 1\n",
    "# for the first unique string and then count +1 for each new unique string\n",
    "\n",
    "encoder = ce.OrdinalEncoder()\n",
    "\n",
    "X_train_encoded = encoder.fit_transform(X_train)\n",
    "X_val_encoded = encoder.fit_transform(X_val)\n",
    "X_test_encoded = encoder.fit_transform(X_test)\n",
    "\n",
    "# To see what we did...\n",
    "X_train_encoded.head()"
   ]
  },
  {
   "cell_type": "code",
   "execution_count": null,
   "metadata": {},
   "outputs": [],
   "source": [
    "# Now check the data types...\n",
    "X_train_encoded.dtypes"
   ]
  },
  {
   "cell_type": "code",
   "execution_count": null,
   "metadata": {},
   "outputs": [],
   "source": [
    "# **Making a function which will test the numeric features indivudually using LinearRegression**\n",
    "\n",
    "model = LinearRegression()\n",
    "\n",
    "def lr_feature_error(array):\n",
    "    \n",
    "    # Arranging X features matrices (already did y target vectors)\n",
    "    X_train_lr = X_train_encoded[array].values.reshape(-1, 1)\n",
    "    print(f'Linear Regression, dependent on: {array}')\n",
    "\n",
    "    # Fit the model\n",
    "    model.fit(X_train_lr, y_train)\n",
    "    y_pred = model.predict(X_train_lr)\n",
    "    mae = mean_absolute_error(y_train, y_pred)\n",
    "    print(f'Train Error: {mae:.2f} percentage points \\n')"
   ]
  },
  {
   "cell_type": "code",
   "execution_count": null,
   "metadata": {},
   "outputs": [],
   "source": [
    "for col in X_train_encoded:\n",
    "    lr_feature_error(col)"
   ]
  },
  {
   "cell_type": "code",
   "execution_count": null,
   "metadata": {},
   "outputs": [],
   "source": [
    "# **Getting the intercepts**\n",
    "\n",
    "# Fit the model to the data\n",
    "model.fit(X_train_encoded, y_train)\n",
    "\n",
    "# Intercepts and coefficients\n",
    "print('Intercept', model.intercept_)\n",
    "coefficients = pd.Series(model.coef_, features)\n",
    "print(coefficients.to_string())"
   ]
  },
  {
   "cell_type": "code",
   "execution_count": null,
   "metadata": {},
   "outputs": [],
   "source": [
    "# Plotting these coefficients\n",
    "coefficients = pd.Series(model.coef_, X_train_encoded.columns)\n",
    "plt.figure(figsize=(5,10))\n",
    "coefficients.sort_values().plot.barh(color='grey');"
   ]
  },
  {
   "cell_type": "code",
   "execution_count": null,
   "metadata": {},
   "outputs": [],
   "source": [
    "# **TL:DR  - Mainly for originally numeric columns**\n",
    "# **For the Positive features, as the feature increases, so does the Price**\n",
    "# **For the Negative features, as the feature decreases, so does the Price**"
   ]
  },
  {
   "cell_type": "code",
   "execution_count": null,
   "metadata": {},
   "outputs": [],
   "source": [
    "# Trying some ordinal encoding and LinearRegression() through a pipeline (sklearn.pipeline.make_pipeline)\n",
    "# Ordinal Encoder will take string values, start at 1 and then count up for each new unique value\n",
    "# After that we will standardize the data so they can be comparable\n",
    "\n",
    "pipeline = make_pipeline(\n",
    "    ce.OrdinalEncoder(),\n",
    "    StandardScaler(),\n",
    "    LinearRegression()\n",
    ")\n",
    "pipeline.fit(X_train, y_train)\n",
    "\n",
    "# # The code below will get coefficients for LinearRegression()\n",
    "\n",
    "lr = pipeline.named_steps['linearregression']\n",
    "importances_lr = pd.Series(lr.coef_, X_train.columns)"
   ]
  },
  {
   "cell_type": "code",
   "execution_count": null,
   "metadata": {},
   "outputs": [],
   "source": [
    "# Plot of the scaled coefficients\n",
    "\n",
    "plt.figure(figsize=(8,6))\n",
    "plt.title('Feature Importance')\n",
    "importances_lr.sort_values().plot.barh(color='grey');"
   ]
  },
  {
   "cell_type": "code",
   "execution_count": null,
   "metadata": {},
   "outputs": [],
   "source": [
    "# Lets try a RandomForestRegressor!\n",
    "\n",
    "pipeline = make_pipeline(\n",
    "    ce.OrdinalEncoder(),\n",
    "    StandardScaler(),\n",
    "    RandomForestRegressor(n_jobs=-1, n_estimators=100, random_state=42)\n",
    ")\n",
    "pipeline.fit(X_train, y_train)\n",
    "\n",
    "# Get feature importances\n",
    "rf = pipeline.named_steps['randomforestregressor']\n",
    "importances = pd.Series(rf.feature_importances_, X_train.columns)\n",
    "\n",
    "# Plot feature importances\n",
    "%matplotlib inline\n",
    "\n",
    "plt.figure(figsize=(8,6))\n",
    "plt.title('Feature Importance')\n",
    "importances.sort_values().plot.barh(color='grey');"
   ]
  },
  {
   "cell_type": "code",
   "execution_count": null,
   "metadata": {},
   "outputs": [],
   "source": [
    "# Fit on train, score on test\n",
    "pipeline.fit(X_train, y_train)\n",
    "y_pred_train = pipeline.predict(X_train)\n",
    "y_pred_val = pipeline.predict(X_val)\n",
    "y_pred_test = pipeline.predict(X_test)\n",
    "\n",
    "rf = pipeline.named_steps['randomforestregressor']\n",
    "\n",
    "# Print Results\n",
    "print('Training R^2', pipeline.score(X_train, y_train))\n",
    "print(f'Training MAE: {mean_absolute_error(y_train, y_pred_train)} dollars')\n",
    "print('Validation R^2', pipeline.score(X_val, y_val))\n",
    "print(f'Validation MAE: {mean_absolute_error(y_val, y_pred_val)} dollars')\n",
    "print('Test R^2', pipeline.score(X_test, y_test))\n",
    "print(f'Test MAE: {mean_absolute_error(y_test, y_pred_test)} dollars')"
   ]
  },
  {
   "cell_type": "code",
   "execution_count": null,
   "metadata": {},
   "outputs": [],
   "source": [
    "# Cross_val_score with SelectKBest\n",
    "\n",
    "pipeline = make_pipeline(\n",
    "    ce.OrdinalEncoder(),\n",
    "    StandardScaler(),\n",
    "    SelectKBest(f_regression, k='all'),\n",
    "    Ridge()\n",
    ")\n",
    "\n",
    "k = 3\n",
    "scores = cross_val_score(pipeline, X_train, y_train, cv=k,\n",
    "                          scoring='neg_mean_absolute_error')\n",
    "print(f'MAE for {k} folds:', -scores)\n",
    "print('Mean score', -scores.mean())"
   ]
  },
  {
   "cell_type": "code",
   "execution_count": null,
   "metadata": {},
   "outputs": [],
   "source": [
    "# With RandomForestRegressor - The MAE is lower when using TargetEncoder\n",
    "\n",
    "pipeline = make_pipeline(\n",
    "#     ce.OrdinalEncoder(),\n",
    "    ce.TargetEncoder(min_samples_leaf=1, smoothing=1),\n",
    "#     StandardScaler(),\n",
    "    RandomForestRegressor(n_estimators=100, n_jobs=-1, random_state=42)\n",
    ")\n",
    "\n",
    "k = 3\n",
    "scores = cross_val_score(pipeline, X_train, y_train, cv=k,\n",
    "                          scoring='neg_mean_absolute_error')\n",
    "print(f'MAE for {k} folds:', -scores)\n",
    "print('Mean score', -scores.mean())"
   ]
  },
  {
   "cell_type": "code",
   "execution_count": null,
   "metadata": {},
   "outputs": [],
   "source": [
    "# Randomized Search with multiple parameter distributions\n",
    "\n",
    "pipeline = make_pipeline(\n",
    "    ce.TargetEncoder(),\n",
    "    RandomForestRegressor()\n",
    ")\n",
    "\n",
    "param_distributions = {\n",
    "    'targetencoder__min_samples_leaf': stats.randint(1, 1000),\n",
    "    'targetencoder__min_samples_leaf': stats.uniform(1, 1000),\n",
    "    'randomforestregressor__n_estimators': stats.randint(50, 500),\n",
    "    'randomforestregressor__max_depth': [5, 10, 15, 20, None],\n",
    "    'randomforestregressor__max_features': stats.uniform(0,1)\n",
    "}"
   ]
  },
  {
   "cell_type": "code",
   "execution_count": null,
   "metadata": {},
   "outputs": [],
   "source": [
    "search = RandomizedSearchCV(\n",
    "    pipeline,\n",
    "    param_distributions=param_distributions,\n",
    "    n_iter=10,\n",
    "    cv=5,\n",
    "    scoring='neg_mean_absolute_error',\n",
    "    verbose=10,\n",
    "    return_train_score=True,\n",
    "    n_jobs=-1\n",
    ")\n",
    "\n",
    "search.fit(X_train, y_train);"
   ]
  },
  {
   "cell_type": "code",
   "execution_count": null,
   "metadata": {},
   "outputs": [],
   "source": [
    "print('Best hyperparameters:', search.best_params_)\n",
    "print('Cross-Validation MAE:', -search.best_score_)"
   ]
  },
  {
   "cell_type": "code",
   "execution_count": null,
   "metadata": {},
   "outputs": [],
   "source": [
    "# Detailed Results\n",
    "pd.DataFrame(search.cv_results_).sort_values(by='rank_test_score')"
   ]
  },
  {
   "cell_type": "code",
   "execution_count": null,
   "metadata": {},
   "outputs": [],
   "source": [
    "pipeline = search.best_estimator_"
   ]
  },
  {
   "cell_type": "code",
   "execution_count": null,
   "metadata": {},
   "outputs": [],
   "source": [
    "X_train = train[features]\n",
    "y_train = train[target]\n",
    "X_val = val[features]\n",
    "y_val = val[target]\n",
    "X_test = test[features]\n",
    "y_test = test[target]\n",
    "\n",
    "y_pred = pipeline.predict(X_train)\n",
    "mae = mean_absolute_error(y_train, y_pred)\n",
    "print(f'Train R^2 Score: {pipeline.score(X_train, y_train)}')\n",
    "print(f'Train MAE: ${mae:,.0f}')\n",
    "\n",
    "y_pred = pipeline.predict(X_val)\n",
    "mae = mean_absolute_error(y_val, y_pred)\n",
    "print(f'Val R^2 Score: {pipeline.score(X_val, y_val)}')\n",
    "print(f'Val MAE: ${mae:,.0f}')\n",
    "\n",
    "y_pred = pipeline.predict(X_test)\n",
    "mae = mean_absolute_error(y_test, y_pred)\n",
    "print(f'Test R^2 Score: {pipeline.score(X_test, y_test)}')\n",
    "print(f'Test MAE: ${mae:,.0f}')"
   ]
  },
  {
   "cell_type": "code",
   "execution_count": null,
   "metadata": {},
   "outputs": [],
   "source": [
    "# KNeighborsRegressor\n",
    "\n",
    "pipeline = make_pipeline(\n",
    "    ce.TargetEncoder(),\n",
    "    KNeighborsRegressor(n_neighbors=8,n_jobs=-1)\n",
    ")\n",
    "\n",
    "pipeline.fit(X_train, y_train)"
   ]
  },
  {
   "cell_type": "code",
   "execution_count": null,
   "metadata": {},
   "outputs": [],
   "source": [
    "y_pred = pipeline.predict(X_train)\n",
    "mae = mean_absolute_error(y_train, y_pred)\n",
    "print(f'Train R^2 Score: {pipeline.score(X_train, y_train)}')\n",
    "print(f'Train MAE: ${mae:,.0f}')"
   ]
  },
  {
   "cell_type": "code",
   "execution_count": null,
   "metadata": {},
   "outputs": [],
   "source": [
    "pipeline = make_pipeline(\n",
    "    ce.TargetEncoder(min_samples_leaf=1, smoothing=1),\n",
    "    KNeighborsRegressor()\n",
    ")\n",
    "\n",
    "n_neighbors = range(1, 30, 1)\n",
    "train_scores, val_scores = validation_curve(\n",
    "    pipeline, X_train, y_train,\n",
    "    param_name='kneighborsregressor__n_neighbors',\n",
    "    param_range=n_neighbors,\n",
    "    cv=3,\n",
    "    n_jobs=-1\n",
    ")\n",
    "\n",
    "plt.figure(dpi=150)\n",
    "plt.plot(n_neighbors, np.mean(train_scores, axis=1), color='blue', label='training error')\n",
    "plt.plot(n_neighbors, np.mean(val_scores, axis=1), color='red', label='validation error')\n",
    "plt.title('Validation Curve')\n",
    "plt.xlabel('model complexity KNeighborsRegressor n_neighbors')\n",
    "plt.ylabel('model score: R^2')\n",
    "plt.legend()\n",
    "plt.show()"
   ]
  },
  {
   "cell_type": "code",
   "execution_count": null,
   "metadata": {},
   "outputs": [],
   "source": [
    "pipeline = make_pipeline(\n",
    "    ce.TargetEncoder(),\n",
    "    KNeighborsRegressor()\n",
    ")\n",
    "\n",
    "param_distributions = {\n",
    "    'targetencoder__min_samples_leaf': stats.randint(1, 1000),\n",
    "    'targetencoder__min_samples_leaf': stats.uniform(1, 1000),\n",
    "    'kneighborsregressor__n_neighbors': range(1, 50, 1),\n",
    "    'kneighborsregressor__leaf_size': range(1, 50, 1),\n",
    "    'kneighborsregressor__algorithm': ['auto', 'ball_tree', 'kd_tree', 'brute'],\n",
    "    'kneighborsregressor__weights': ['uniform', 'distance']\n",
    "}"
   ]
  },
  {
   "cell_type": "code",
   "execution_count": null,
   "metadata": {},
   "outputs": [],
   "source": [
    "search = RandomizedSearchCV(\n",
    "    pipeline,\n",
    "    param_distributions=param_distributions,\n",
    "    n_iter=10,\n",
    "    cv=5,\n",
    "    verbose=10,\n",
    "    return_train_score=True,\n",
    "    n_jobs=-1\n",
    ")\n",
    "search.fit(X_train, y_train)"
   ]
  },
  {
   "cell_type": "code",
   "execution_count": null,
   "metadata": {},
   "outputs": [],
   "source": [
    "print('Best hyperparameters \"KNeighborsRegressor\":', search.best_params_)\n",
    "print('Cross-Validation R^2:', search.best_score_)"
   ]
  },
  {
   "cell_type": "code",
   "execution_count": null,
   "metadata": {},
   "outputs": [],
   "source": [
    "pd.DataFrame(search.cv_results_).sort_values(by='rank_test_score')"
   ]
  },
  {
   "cell_type": "code",
   "execution_count": null,
   "metadata": {},
   "outputs": [],
   "source": [
    "pipeline = search.best_estimator_"
   ]
  },
  {
   "cell_type": "code",
   "execution_count": null,
   "metadata": {},
   "outputs": [],
   "source": [
    "X_train = train[features]\n",
    "y_train = train[target]\n",
    "X_val = val[features]\n",
    "y_val = val[target]\n",
    "X_test = test[features]\n",
    "y_test = test[target]\n",
    "\n",
    "y_pred = pipeline.predict(X_train)\n",
    "mae = mean_absolute_error(y_train, y_pred)\n",
    "print(f'Train R^2 Score: {pipeline.score(X_train, y_train)}')\n",
    "print(f'Train MAE: ${mae:,.0f}')\n",
    "\n",
    "y_pred = pipeline.predict(X_val)\n",
    "mae = mean_absolute_error(y_val, y_pred)\n",
    "print(f'Val R^2 Score: {pipeline.score(X_val, y_val)}')\n",
    "print(f'Val MAE: ${mae:,.0f}')\n",
    "\n",
    "y_pred = pipeline.predict(X_test)\n",
    "mae = mean_absolute_error(y_test, y_pred)\n",
    "print(f'Test R^2 Score: {pipeline.score(X_test, y_test)}')\n",
    "print(f'Test MAE: ${mae:,.0f}')"
   ]
  },
  {
   "cell_type": "code",
   "execution_count": null,
   "metadata": {},
   "outputs": [],
   "source": [
    "# Get feature importances\n",
    "knr = pipeline.named_steps['kneighborsregressor']\n",
    "importances = pd.Series(knr.kneighbors, X_train.columns)\n",
    "importances\n",
    "knr.kneighbors_graph\n",
    "# # Plot feature importances\n",
    "# %matplotlib inline\n",
    "\n",
    "# plt.figure(figsize=(8,6))\n",
    "# plt.title('Feature Importance')\n",
    "# importances.sort_values().plot.barh(color='grey');"
   ]
  },
  {
   "cell_type": "code",
   "execution_count": null,
   "metadata": {
    "colab": {
     "base_uri": "https://localhost:8080/",
     "height": 35
    },
    "colab_type": "code",
    "id": "TOPPNgOzdVjZ",
    "outputId": "66b35f39-fde8-456a-be75-7aa1d3d80f83"
   },
   "outputs": [],
   "source": [
    "#stripping NaN values\n",
    "berlin_na_stripped = cancel_policy\n",
    "berlin_na_stripped.shape\n"
   ]
  },
  {
   "cell_type": "code",
   "execution_count": null,
   "metadata": {
    "colab": {},
    "colab_type": "code",
    "id": "7okBlQ0nevLG"
   },
   "outputs": [],
   "source": [
    "Berlin = berlin_na_stripped"
   ]
  },
  {
   "cell_type": "code",
   "execution_count": null,
   "metadata": {
    "colab": {
     "base_uri": "https://localhost:8080/",
     "height": 52
    },
    "colab_type": "code",
    "id": "Oxq-TNo5I-4V",
    "outputId": "82ab8bcd-7f07-41a8-9dc6-e5d9763785cc"
   },
   "outputs": [],
   "source": [
    "# # Ofer's code begins here\n",
    "# # Create Train/Test split:\n",
    "# import pandas as pd\n",
    "# from sklearn import datasets, linear_model\n",
    "# from sklearn.model_selection import train_test_split\n",
    "# from matplotlib import pyplot as plt\n",
    "\n",
    "# # create training and testing vars\n",
    "\n",
    "# X = Berlin.drop(columns='price')\n",
    "# y = Berlin.price\n",
    "# X_train, X_test, y_train, y_test = train_test_split(X, y, test_size=0.2)\n",
    "\n",
    "# print(X_train.shape, y_train.shape)\n",
    "# print(X_test.shape, y_test.shape)\n"
   ]
  },
  {
   "cell_type": "code",
   "execution_count": null,
   "metadata": {
    "colab": {
     "base_uri": "https://localhost:8080/",
     "height": 390
    },
    "colab_type": "code",
    "id": "TB_j4WcNfeqd",
    "outputId": "265b1565-747c-43fb-f582-14efc36e4ab6"
   },
   "outputs": [],
   "source": [
    "# # Get feature importances\n",
    "# rf = pipeline.named_steps['randomforestregressor']\n",
    "# importances = pd.Series(rf.feature_importances_, X_train.columns)\n",
    "\n",
    "# # Plot feature importances\n",
    "# %matplotlib inline\n",
    "# import matplotlib.pyplot as plt\n",
    "\n",
    "# plt.figure(figsize=(8,6))\n",
    "# plt.title('Feature Importance')\n",
    "# importances.sort_values().plot.barh(color='grey');"
   ]
  },
  {
   "cell_type": "code",
   "execution_count": null,
   "metadata": {},
   "outputs": [],
   "source": []
  },
  {
   "cell_type": "code",
   "execution_count": null,
   "metadata": {
    "colab": {
     "base_uri": "https://localhost:8080/",
     "height": 542
    },
    "colab_type": "code",
    "id": "XwV2xl5Gixzm",
    "outputId": "e3f9015c-abe5-4b41-cf08-116ab21c71e5"
   },
   "outputs": [],
   "source": [
    "#try to graph it out\n",
    "import plotly.express as px\n",
    "px.scatter(Berlin, x='number_of_reviews', y= target)\n",
    "#this shows the less reviews, the higher the price (this probably suggests that highly priced properties don't get booked much)"
   ]
  },
  {
   "cell_type": "code",
   "execution_count": null,
   "metadata": {
    "colab": {
     "base_uri": "https://localhost:8080/",
     "height": 296
    },
    "colab_type": "code",
    "id": "IJlbL-tPieVP",
    "outputId": "c99b5e76-22da-4c3b-b7d9-5e6de619c682"
   },
   "outputs": [],
   "source": [
    "#try to graph it out\n",
    "import seaborn as sns\n",
    "sns.boxplot(y_train)"
   ]
  },
  {
   "cell_type": "code",
   "execution_count": null,
   "metadata": {
    "colab": {},
    "colab_type": "code",
    "id": "aXJXrZfklKyI"
   },
   "outputs": [],
   "source": [
    "#throw some shapley values\n",
    "# !pip install shap\n",
    "# import shap\n",
    "\n",
    "# X_train_encoded = encoder.transform(X_train)\n",
    "# row = X_train_encoded\n",
    "\n",
    "# explainer = shap.TreeExplainer(rf)\n",
    "# shap_values = explainer.shap_values(row)\n",
    "\n",
    "# shap.initjs()\n",
    "# shap.force_plot(\n",
    "# # shap.summary_plot( \n",
    "#     base_value=explainer.expected_value,\n",
    "#     shap_values=shap_values,\n",
    "#     features=row\n",
    "# )"
   ]
  },
  {
   "cell_type": "code",
   "execution_count": null,
   "metadata": {
    "colab": {
     "base_uri": "https://localhost:8080/",
     "height": 362
    },
    "colab_type": "code",
    "id": "c9yHXjqOp56x",
    "outputId": "4adc537f-542a-47a2-c979-a9d5d099d4de"
   },
   "outputs": [],
   "source": [
    "# # Feature Scaling\n",
    "# from sklearn.preprocessing import StandardScaler\n",
    "\n",
    "# sc = StandardScaler()\n",
    "# X_train = sc.fit_transform(X_train)\n",
    "# X_test = sc.transform(X_test)"
   ]
  },
  {
   "cell_type": "code",
   "execution_count": null,
   "metadata": {
    "colab": {
     "base_uri": "https://localhost:8080/",
     "height": 276
    },
    "colab_type": "code",
    "id": "zstAoQ7gYzme",
    "outputId": "722d2b85-4a39-4e57-83b6-99397eebb9f6"
   },
   "outputs": [],
   "source": [
    "# Arrange data into X features matrix and y target vector\n",
    "target = 'price'\n",
    "\n",
    "!pip install --upgrade category_encoders\n",
    "import category_encoders as ce\n",
    "from sklearn.pipeline import make_pipeline\n",
    "from sklearn.impute import SimpleImputer\n",
    "from sklearn.ensemble import RandomForestRegressor\n",
    "from sklearn.metrics import mean_absolute_error\n",
    "\n",
    "pipeline = make_pipeline(\n",
    "    ce.OrdinalEncoder(), \n",
    "    # SimpleImputer(strategy='median'), \n",
    "    RandomForestRegressor(n_estimators=250, random_state=42, n_jobs=-1)\n",
    ")\n",
    "\n",
    "# Fit on train, score on test\n",
    "pipeline.fit(X_train, y_train)\n",
    "y_pred_train = pipeline.predict(X_train)\n",
    "y_pred_test = pipeline.predict(X_test)\n",
    "\n",
    "rf = pipeline.named_steps['randomforestregressor']\n",
    "encoder = pipeline.named_steps['ordinalencoder']\n",
    "\n",
    "\n",
    "# Print Results\n",
    "print('Training R^2', pipeline.score(X_train, y_train))\n",
    "print(f'Training MAE: {mean_absolute_error(y_train, y_pred_train)} dollars')\n",
    "print('Validation R^2', pipeline.score(X_test, y_test))\n",
    "print(f'Validation MAE: {mean_absolute_error(y_test, y_pred_test)} dollars')"
   ]
  },
  {
   "cell_type": "code",
   "execution_count": null,
   "metadata": {
    "colab": {
     "base_uri": "https://localhost:8080/",
     "height": 257
    },
    "colab_type": "code",
    "id": "WXpTqjA4t88K",
    "outputId": "d72a37cb-c4d3-44ff-b466-d88c880d1c8e"
   },
   "outputs": [],
   "source": [
    "X_test.head(4)"
   ]
  },
  {
   "cell_type": "code",
   "execution_count": null,
   "metadata": {
    "colab": {
     "base_uri": "https://localhost:8080/",
     "height": 35
    },
    "colab_type": "code",
    "id": "S2H58mlqnEE3",
    "outputId": "16423746-54f3-46c3-b255-01ce63534ec6"
   },
   "outputs": [],
   "source": [
    "\n",
    "#I think this is predicting the first 4 rows prices? so, $32, $31, $113.9, $67 ?\n",
    "#Can someone verify this? :)\n",
    "y_pred = pipeline.predict(X_test[:3])\n",
    "y_pred"
   ]
  },
  {
   "cell_type": "code",
   "execution_count": null,
   "metadata": {
    "colab": {
     "base_uri": "https://localhost:8080/",
     "height": 104
    },
    "colab_type": "code",
    "id": "SN3SD9q_wMQQ",
    "outputId": "9f3e1fd6-c02b-4b17-e727-cd5733e781af"
   },
   "outputs": [],
   "source": [
    "#looking up the first 4 prices of y\n",
    "y_test.head(4)\n",
    "#So wait - I thought this was a 1 dimensional array\n",
    "#what is the number on the left? on the right it's the price correct?"
   ]
  },
  {
   "cell_type": "code",
   "execution_count": null,
   "metadata": {
    "colab": {},
    "colab_type": "code",
    "id": "XOV-jOcfw3-B"
   },
   "outputs": [],
   "source": []
  }
 ],
 "metadata": {
  "colab": {
   "collapsed_sections": [],
   "name": "airbnb_berlin_notebook (Ofer update Fri 28 Feb).ipynb",
   "provenance": []
  },
  "kernelspec": {
   "display_name": "Python 3",
   "language": "python",
   "name": "python3"
  },
  "language_info": {
   "codemirror_mode": {
    "name": "ipython",
    "version": 3
   },
   "file_extension": ".py",
   "mimetype": "text/x-python",
   "name": "python",
   "nbconvert_exporter": "python",
   "pygments_lexer": "ipython3",
   "version": "3.7.4"
  }
 },
 "nbformat": 4,
 "nbformat_minor": 1
}
