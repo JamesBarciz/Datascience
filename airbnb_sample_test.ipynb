{
 "cells": [
  {
   "cell_type": "code",
   "execution_count": null,
   "metadata": {},
   "outputs": [],
   "source": [
    "import requests\n",
    "import json\n",
    "import pandas as pd"
   ]
  },
  {
   "cell_type": "code",
   "execution_count": null,
   "metadata": {},
   "outputs": [],
   "source": [
    "# Testing with the original parameters"
   ]
  },
  {
   "cell_type": "code",
   "execution_count": null,
   "metadata": {},
   "outputs": [],
   "source": [
    "url = 'https://airbnb-berlin-price-predict.herokuapp.com/'\n",
    "data = {\n",
    "    \"accommodates\": 2,\n",
    "    \"bedrooms\": 1,\n",
    "    \"cleaning_fee\": 30.50,\n",
    "    \"extra_people\": 3,\n",
    "    \"guests_included\": 3,\n",
    "    \"minimum_nights\": 3,\n",
    "    \"neighbourhood_group_cleansed_Mitte\": 0,\n",
    "    \"neighbourhood_group_cleansed_Pankow\": 1,\n",
    "    \"neighbourhood_group_cleansed_Tempelhof_Schoneberg\": 0,\n",
    "    \"neighbourhood_group_cleansed_Friedrichshain_Kreuzberg\": 0,\n",
    "    \"neighbourhood_group_cleansed_Neukolln\": 0,\n",
    "    \"neighbourhood_group_cleansed_Charlottenburg_Wilm\": 0,\n",
    "    \"neighbourhood_group_cleansed_Treptow_Kopenick\": 0,\n",
    "    \"neighbourhood_group_cleansed_Steglitz_Zehlendorf\": 0,\n",
    "    \"neighbourhood_group_cleansed_Reinickendorf\": 0,\n",
    "    \"neighbourhood_group_cleansed_Lichtenberg\": 0,\n",
    "    \"neighbourhood_group_cleansed_Marzahn_Hellersdorf\": 0,\n",
    "    \"neighbourhood_group_cleansed_Spandau\": 0, \n",
    "    \"property_type_Guesthouse\": 0,\n",
    "    \"property_type_Apartment\": 0,\n",
    "    \"property_type_Condominium\": 0,\n",
    "    \"property_type_Loft\": 0,\n",
    "    \"property_type_House\": 0,\n",
    "    \"property_type_Serviced_apartment\": 0,\n",
    "    \"property_type_Townhouse\": 0,\n",
    "    \"property_type_Other\": 1,\n",
    "    \"property_type_Bed_and_breakfast\": 0,\n",
    "    \"property_type_Guest_suite\": 0,\n",
    "    \"property_type_Hostel\": 0,\n",
    "    \"room_type_Entire_home/apt\": 0,\n",
    "    \"room_type_Private_room\": 1,\n",
    "    \"room_type_Shared_room\": 0,\n",
    "    \"bed_type_Real_Bed\": 0,\n",
    "    \"bed_type_Sofa_Other\": 1,\n",
    "    \"instant_bookable_f\": 1,\n",
    "    \"instant_bookable_t\": 0,\n",
    "    \"cancellation_policy_strict\": 1,\n",
    "    \"cancellation_policy_flexible\": 0,\n",
    "    \"cancellation_policy_moderate\": 0\n",
    "}"
   ]
  },
  {
   "cell_type": "code",
   "execution_count": null,
   "metadata": {},
   "outputs": [],
   "source": [
    "feature_data = json.dumps(feature_data)"
   ]
  },
  {
   "cell_type": "code",
   "execution_count": null,
   "metadata": {},
   "outputs": [],
   "source": [
    "# A response of 200 means everything went alright\n",
    "\n",
    "post_request = requests.post(url, feature_data)\n",
    "print(post_request)"
   ]
  },
  {
   "cell_type": "code",
   "execution_count": null,
   "metadata": {},
   "outputs": [],
   "source": [
    "print(post_request.json())"
   ]
  }
 ],
 "metadata": {
  "kernelspec": {
   "display_name": "Python 3",
   "language": "python",
   "name": "python3"
  },
  "language_info": {
   "codemirror_mode": {
    "name": "ipython",
    "version": 3
   },
   "file_extension": ".py",
   "mimetype": "text/x-python",
   "name": "python",
   "nbconvert_exporter": "python",
   "pygments_lexer": "ipython3",
   "version": "3.7.4"
  }
 },
 "nbformat": 4,
 "nbformat_minor": 2
}
