{
 "cells": [
  {
   "cell_type": "code",
   "execution_count": 1,
   "metadata": {},
   "outputs": [],
   "source": [
    "import requests\n",
    "import json\n",
    "import pandas as pd"
   ]
  },
  {
   "cell_type": "code",
   "execution_count": null,
   "metadata": {},
   "outputs": [],
   "source": [
    "# Testing with the original parameters"
   ]
  },
  {
   "cell_type": "code",
   "execution_count": 21,
   "metadata": {},
   "outputs": [],
   "source": [
    "# local url\n",
    "url = 'http://127.0.0.1:5000/'\n",
    "\n",
    "# sample data\n",
    "feature_data = {\n",
    "    'accommodates': 2,\n",
    "    'bedrooms': 1.0,\n",
    "    'cleaning_fee': 60.0,\n",
    "    'extra_people': 15.0,\n",
    "    'guests_included': 2,\n",
    "    'minimum_nights': 10,\n",
    "    'neighbourhood_group_cleansed_Mitte': 1,\n",
    "    'neighbourhood_group_cleansed_Pankow': 0,\n",
    "    'neighbourhood_group_cleansed_Tempelhof - Schöneberg': 0,\n",
    "    'neighbourhood_group_cleansed_Friedrichshain-Kreuzberg': 0,\n",
    "    'neighbourhood_group_cleansed_Neukölln': 0,\n",
    "    'neighbourhood_group_cleansed_Charlottenburg-Wilm.': 0,\n",
    "    'neighbourhood_group_cleansed_Treptow - Köpenick': 0,\n",
    "    'neighbourhood_group_cleansed_Steglitz - Zehlendorf': 0,\n",
    "    'neighbourhood_group_cleansed_Reinickendorf': 0,\n",
    "    'neighbourhood_group_cleansed_Lichtenberg': 0,\n",
    "    'neighbourhood_group_cleansed_Marzahn - Hellersdorf': 0,\n",
    "    'neighbourhood_group_cleansed_Spandau': 0, \n",
    "    'property_type_Guesthouse': 1,\n",
    "    'property_type_Apartment': 0,\n",
    "    'property_type_Condominium': 0,\n",
    "    'property_type_Loft': 0,\n",
    "    'property_type_House': 0,\n",
    "    'property_type_Serviced apartment': 0,\n",
    "    'property_type_Townhouse': 0,\n",
    "    'property_type_Other': 0,\n",
    "    'property_type_Bed and breakfast': 0,\n",
    "    'property_type_Guest suite': 0,\n",
    "    'property_type_Hostel': 0,\n",
    "    'room_type_Entire home/apt': 1,\n",
    "    'room_type_Private room': 0,\n",
    "    'room_type_Shared room': 0,\n",
    "    'bed_type_Real Bed': 1,\n",
    "    'bed_type_Sofa\\Other': 0,\n",
    "    'instant_bookable_f': 1,\n",
    "    'instant_bookable_t': 0,\n",
    "    'cancellation_policy_strict': 1,\n",
    "    'cancellation_policy_flexible': 0,\n",
    "    'cancellation_policy_moderate': 0\n",
    "}"
   ]
  },
  {
   "cell_type": "code",
   "execution_count": 22,
   "metadata": {},
   "outputs": [],
   "source": [
    "feature_data = json.dumps(feature_data)"
   ]
  },
  {
   "cell_type": "code",
   "execution_count": 23,
   "metadata": {},
   "outputs": [
    {
     "name": "stdout",
     "output_type": "stream",
     "text": [
      "<Response [405]>\n"
     ]
    }
   ],
   "source": [
    "# A response of 200 means everything went alright\n",
    "\n",
    "post_request = requests.post(url, feature_data)\n",
    "print(post_request)"
   ]
  },
  {
   "cell_type": "code",
   "execution_count": 5,
   "metadata": {},
   "outputs": [
    {
     "name": "stdout",
     "output_type": "stream",
     "text": [
      "{'results': {'results': 84}}\n"
     ]
    }
   ],
   "source": [
    "print(post_request.json())"
   ]
  },
  {
   "cell_type": "code",
   "execution_count": null,
   "metadata": {},
   "outputs": [],
   "source": [
    "# Testing with hyperparameters"
   ]
  },
  {
   "cell_type": "code",
   "execution_count": 33,
   "metadata": {},
   "outputs": [],
   "source": [
    "# local url\n",
    "url = 'http://127.0.0.1:5000/'\n",
    "\n",
    "# sample data\n",
    "data = {\n",
    "    'accommodates': 2,\n",
    "    'bedrooms': 1.0,\n",
    "    'cleaning_fee': 60.0,\n",
    "    'extra_people': 15.0,\n",
    "    'guests_included': 2,\n",
    "    'minimum_nights': 10,\n",
    "    'neighbourhood_group_cleansed_Mitte': 1,\n",
    "    'neighbourhood_group_cleansed_Pankow': 0,\n",
    "    'neighbourhood_group_cleansed_Tempelhof - Schöneberg': 0,\n",
    "    'neighbourhood_group_cleansed_Friedrichshain-Kreuzberg': 0,\n",
    "    'neighbourhood_group_cleansed_Neukölln': 0,\n",
    "    'neighbourhood_group_cleansed_Charlottenburg-Wilm.': 0,\n",
    "    'neighbourhood_group_cleansed_Treptow - Köpenick': 0,\n",
    "    'neighbourhood_group_cleansed_Steglitz - Zehlendorf': 0,\n",
    "    'neighbourhood_group_cleansed_Reinickendorf': 0,\n",
    "    'neighbourhood_group_cleansed_Lichtenberg': 0,\n",
    "    'neighbourhood_group_cleansed_Marzahn - Hellersdorf': 0,\n",
    "    'neighbourhood_group_cleansed_Spandau': 0, \n",
    "    'property_type_Guesthouse': 1,\n",
    "    'property_type_Apartment': 0,\n",
    "    'property_type_Condominium': 0,\n",
    "    'property_type_Loft': 0,\n",
    "    'property_type_House': 0,\n",
    "    'property_type_Serviced apartment': 0,\n",
    "    'property_type_Townhouse': 0,\n",
    "    'property_type_Other': 0,\n",
    "    'property_type_Bed and breakfast': 0,\n",
    "    'property_type_Guest suite': 0,\n",
    "    'property_type_Hostel': 0,\n",
    "    'room_type_Entire home/apt': 1,\n",
    "    'room_type_Private room': 0,\n",
    "    'room_type_Shared room': 0,\n",
    "    'bed_type_Real Bed': 1,\n",
    "    'bed_type_Sofa\\Other': 0,\n",
    "    'instant_bookable_f': 1,\n",
    "    'instant_bookable_t': 0,\n",
    "    'cancellation_policy_strict': 1,\n",
    "    'cancellation_policy_flexible': 0,\n",
    "    'cancellation_policy_moderate': 0\n",
    "}"
   ]
  },
  {
   "cell_type": "code",
   "execution_count": 34,
   "metadata": {},
   "outputs": [],
   "source": [
    "data = json.dumps(data)"
   ]
  },
  {
   "cell_type": "code",
   "execution_count": 35,
   "metadata": {},
   "outputs": [
    {
     "name": "stdout",
     "output_type": "stream",
     "text": [
      "<Response [200]>\n"
     ]
    }
   ],
   "source": [
    "# A response of 200 means everything went alright\n",
    "\n",
    "post_request = requests.post(url, data)\n",
    "print(post_request)"
   ]
  },
  {
   "cell_type": "code",
   "execution_count": 36,
   "metadata": {},
   "outputs": [
    {
     "name": "stdout",
     "output_type": "stream",
     "text": [
      "{'results': {'results': 77}}\n"
     ]
    }
   ],
   "source": [
    "print(post_request.json())"
   ]
  },
  {
   "cell_type": "code",
   "execution_count": 28,
   "metadata": {},
   "outputs": [
    {
     "ename": "NameError",
     "evalue": "name 'predict_price' is not defined",
     "output_type": "error",
     "traceback": [
      "\u001b[1;31m---------------------------------------------------------------------------\u001b[0m",
      "\u001b[1;31mNameError\u001b[0m                                 Traceback (most recent call last)",
      "\u001b[1;32m<ipython-input-28-78b2a0aaa07c>\u001b[0m in \u001b[0;36m<module>\u001b[1;34m\u001b[0m\n\u001b[1;32m----> 1\u001b[1;33m \u001b[0mprint\u001b[0m\u001b[1;33m(\u001b[0m\u001b[0mpredict_price\u001b[0m\u001b[1;33m(\u001b[0m\u001b[1;33m)\u001b[0m\u001b[1;33m)\u001b[0m\u001b[1;33m\u001b[0m\u001b[1;33m\u001b[0m\u001b[0m\n\u001b[0m",
      "\u001b[1;31mNameError\u001b[0m: name 'predict_price' is not defined"
     ]
    }
   ],
   "source": [
    "import pandas as pd\n",
    "from flask import Flask, jsonify, request, render_template\n",
    "import pickle                      ## To use .pkl model\n",
    "import json                        ## To load in 'features.json'\n",
    "# import psycopg2                  ## To connect to PostgreSQL Database\n",
    "# from dotenv import load_dotenv   ## To get .env\n",
    "# import os                        ## To get .env\n",
    "\n",
    "\n",
    "# load_dotenv()\n",
    "\n",
    "# DB_NAME=os.getenv('DB_NAME', default='OOPS')\n",
    "# DB_USER=os.getenv('DB_USER', default='OOPS')\n",
    "# DB_PASS=os.getenv('DB_PASS', default='OOPS')\n",
    "# DB_HOST=os.getenv('DB_HOST', default='OOPS')\n",
    "\n",
    "# conn = psycopg2.connect(dbname='DB_NAME', user='DB_USER',\n",
    "#                         password='DB_PASS', host='DB_HOST')\n",
    "# cur = conn.cursor()\n",
    "\n",
    "\n",
    "# Load the model from 'berlin_model.pkl' file\n",
    "model = pickle.load(open('berlin_model.pkl', 'rb'))\n",
    "\n",
    "# App\n",
    "app = Flask(__name__)\n",
    "\n",
    "# Routes\n",
    "@app.route('/')\n",
    "def index():\n",
    "    return render_template('feature_input.html')\n",
    "\n",
    "@app.route('/price', methods=['POST'])\n",
    "def predict_price():\n",
    "\n",
    "    # Takes data entered at index route via the 'feature_input.html' template\n",
    "    data = dict(request.form)\n",
    "    \n",
    "    # The file 'features.json' contains skeleton JSON of feature variables with default\n",
    "    # values set to '0'.  This block of code compares the data from the request form to\n",
    "    # the default values from the JSON file and makes changes depending on what the input\n",
    "    # was.  For features that have multiple permutations (neighbourhood_group_cleansed, etc),\n",
    "    # whichever was chosen in the drop-down list will be reassigned as an integer(1) while\n",
    "    # the others remain an integer(0) which denotes that the listing is not a particular\n",
    "    # feature permutation and thus, can be ran through pickeled model.\n",
    "    with open('features.json', 'r') as f:\n",
    "        features_dict = json.load(f)\n",
    "        for key, value in data.items():\n",
    "            if key in features_dict:\n",
    "                features_dict[key] = float(value)\n",
    "            elif value in features_dict:\n",
    "                features_dict[value] = 1\n",
    "        # print(features_dict)\n",
    "        data = features_dict\n",
    "\n",
    "    # This code will take the variable 'data' and convert it from JSON into a Pandas\n",
    "    # Dataframe which can be used with the next line of code\n",
    "    df = pd.json_normalize(data)\n",
    "\n",
    "    # Prediction based on the Dataframe containing feature values\n",
    "    results = int(model.predict(df)[0])\n",
    "\n",
    "    # Return the predicted price as JSON\n",
    "    # return jsonify(results=results)\n",
    "      return jsonify(price=results)\n",
    "    # return df\n",
    "\n",
    "if __name__ == \"__main__\":\n",
    "    app.run(port=5000, debug=True)\n"
   ]
  },
  {
   "cell_type": "code",
   "execution_count": null,
   "metadata": {},
   "outputs": [],
   "source": []
  }
 ],
 "metadata": {
  "kernelspec": {
   "display_name": "Python 3",
   "language": "python",
   "name": "python3"
  },
  "language_info": {
   "codemirror_mode": {
    "name": "ipython",
    "version": 3
   },
   "file_extension": ".py",
   "mimetype": "text/x-python",
   "name": "python",
   "nbconvert_exporter": "python",
   "pygments_lexer": "ipython3",
   "version": "3.7.4"
  }
 },
 "nbformat": 4,
 "nbformat_minor": 2
}
