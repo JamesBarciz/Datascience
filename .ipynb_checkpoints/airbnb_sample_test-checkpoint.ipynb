{
 "cells": [
  {
   "cell_type": "code",
   "execution_count": 1,
   "metadata": {},
   "outputs": [],
   "source": [
    "import requests\n",
    "import json\n",
    "import pandas as pd"
   ]
  },
  {
   "cell_type": "code",
   "execution_count": 2,
   "metadata": {},
   "outputs": [],
   "source": [
    "# local url\n",
    "url = 'http://127.0.0.1:5000/'\n",
    "\n",
    "# sample data\n",
    "data = {\n",
    "    'accommodates': 2,\n",
    "    'bedrooms': 1.0,\n",
    "    'cleaning_fee': 60.0,\n",
    "    'extra_people': 15.0,\n",
    "    'guests_included': 2,\n",
    "    'minimum_nights': 10,\n",
    "    'neighbourhood_group_cleansed_Mitte': 1,\n",
    "    'neighbourhood_group_cleansed_Pankow': 0,\n",
    "    'neighbourhood_group_cleansed_Tempelhof - Schöneberg': 0,\n",
    "    'neighbourhood_group_cleansed_Friedrichshain-Kreuzberg': 0,\n",
    "    'neighbourhood_group_cleansed_Neukölln': 0,\n",
    "    'neighbourhood_group_cleansed_Charlottenburg-Wilm.': 0,\n",
    "    'neighbourhood_group_cleansed_Treptow - Köpenick': 0,\n",
    "    'neighbourhood_group_cleansed_Steglitz - Zehlendorf': 0,\n",
    "    'neighbourhood_group_cleansed_Reinickendorf': 0,\n",
    "    'neighbourhood_group_cleansed_Lichtenberg': 0,\n",
    "    'neighbourhood_group_cleansed_Marzahn - Hellersdorf': 0,\n",
    "    'neighbourhood_group_cleansed_Spandau': 0, \n",
    "    'property_type_Guesthouse': 1,\n",
    "    'property_type_Apartment': 0,\n",
    "    'property_type_Condominium': 0,\n",
    "    'property_type_Loft': 0,\n",
    "    'property_type_House': 0,\n",
    "    'property_type_Serviced apartment': 0,\n",
    "    'property_type_Townhouse': 0,\n",
    "    'property_type_Other': 0,\n",
    "    'property_type_Bed and breakfast': 0,\n",
    "    'property_type_Guest suite': 0,\n",
    "    'property_type_Hostel': 0,\n",
    "    'room_type_Entire home/apt': 1,\n",
    "    'room_type_Private room': 0,\n",
    "    'room_type_Shared room': 0,\n",
    "    'bed_type_Real Bed': 1,\n",
    "    'bed_type_Sofa\\Other': 0,\n",
    "    'instant_bookable_f': 1,\n",
    "    'instant_bookable_t': 0,\n",
    "    'cancellation_policy_strict': 1,\n",
    "    'cancellation_policy_flexible': 0,\n",
    "    'cancellation_policy_moderate': 0\n",
    "}"
   ]
  },
  {
   "cell_type": "code",
   "execution_count": 3,
   "metadata": {},
   "outputs": [],
   "source": [
    "data = json.dumps(data)"
   ]
  },
  {
   "cell_type": "code",
   "execution_count": 4,
   "metadata": {},
   "outputs": [
    {
     "name": "stdout",
     "output_type": "stream",
     "text": [
      "<Response [200]>\n"
     ]
    }
   ],
   "source": [
    "# A response of 200 means everything went alright\n",
    "\n",
    "post_request = requests.post(url, data)\n",
    "print(post_request)"
   ]
  },
  {
   "cell_type": "code",
   "execution_count": 5,
   "metadata": {},
   "outputs": [
    {
     "name": "stdout",
     "output_type": "stream",
     "text": [
      "{'results': {'results': 84}}\n"
     ]
    }
   ],
   "source": [
    "print(post_request.json())"
   ]
  }
 ],
 "metadata": {
  "kernelspec": {
   "display_name": "Python 3",
   "language": "python",
   "name": "python3"
  },
  "language_info": {
   "codemirror_mode": {
    "name": "ipython",
    "version": 3
   },
   "file_extension": ".py",
   "mimetype": "text/x-python",
   "name": "python",
   "nbconvert_exporter": "python",
   "pygments_lexer": "ipython3",
   "version": "3.7.4"
  }
 },
 "nbformat": 4,
 "nbformat_minor": 2
}
